{
  "cells": [
    {
      "cell_type": "markdown",
      "metadata": {
        "id": "QypUUMU49YTO"
      },
      "source": [
        "# Rains of Australia"
      ]
    },
    {
      "cell_type": "markdown",
      "metadata": {
        "id": "Rmsa3JNLOZye"
      },
      "source": [
        "## Загрузка и чтение данных"
      ]
    },
    {
      "cell_type": "code",
      "execution_count": 1,
      "metadata": {
        "colab": {
          "base_uri": "https://localhost:8080/"
        },
        "id": "2N590SuijORK",
        "outputId": "cc9803ac-dbc1-42fc-fdf6-1df05afc83a9"
      },
      "outputs": [
        {
          "output_type": "stream",
          "name": "stdout",
          "text": [
            "Collecting catboost\n",
            "  Downloading catboost-1.2.5-cp310-cp310-manylinux2014_x86_64.whl (98.2 MB)\n",
            "\u001b[2K     \u001b[90m━━━━━━━━━━━━━━━━━━━━━━━━━━━━━━━━━━━━━━━━\u001b[0m \u001b[32m98.2/98.2 MB\u001b[0m \u001b[31m5.3 MB/s\u001b[0m eta \u001b[36m0:00:00\u001b[0m\n",
            "\u001b[?25hRequirement already satisfied: graphviz in /usr/local/lib/python3.10/dist-packages (from catboost) (0.20.3)\n",
            "Requirement already satisfied: matplotlib in /usr/local/lib/python3.10/dist-packages (from catboost) (3.7.1)\n",
            "Requirement already satisfied: numpy>=1.16.0 in /usr/local/lib/python3.10/dist-packages (from catboost) (1.25.2)\n",
            "Requirement already satisfied: pandas>=0.24 in /usr/local/lib/python3.10/dist-packages (from catboost) (2.0.3)\n",
            "Requirement already satisfied: scipy in /usr/local/lib/python3.10/dist-packages (from catboost) (1.11.4)\n",
            "Requirement already satisfied: plotly in /usr/local/lib/python3.10/dist-packages (from catboost) (5.15.0)\n",
            "Requirement already satisfied: six in /usr/local/lib/python3.10/dist-packages (from catboost) (1.16.0)\n",
            "Requirement already satisfied: python-dateutil>=2.8.2 in /usr/local/lib/python3.10/dist-packages (from pandas>=0.24->catboost) (2.8.2)\n",
            "Requirement already satisfied: pytz>=2020.1 in /usr/local/lib/python3.10/dist-packages (from pandas>=0.24->catboost) (2023.4)\n",
            "Requirement already satisfied: tzdata>=2022.1 in /usr/local/lib/python3.10/dist-packages (from pandas>=0.24->catboost) (2024.1)\n",
            "Requirement already satisfied: contourpy>=1.0.1 in /usr/local/lib/python3.10/dist-packages (from matplotlib->catboost) (1.2.1)\n",
            "Requirement already satisfied: cycler>=0.10 in /usr/local/lib/python3.10/dist-packages (from matplotlib->catboost) (0.12.1)\n",
            "Requirement already satisfied: fonttools>=4.22.0 in /usr/local/lib/python3.10/dist-packages (from matplotlib->catboost) (4.51.0)\n",
            "Requirement already satisfied: kiwisolver>=1.0.1 in /usr/local/lib/python3.10/dist-packages (from matplotlib->catboost) (1.4.5)\n",
            "Requirement already satisfied: packaging>=20.0 in /usr/local/lib/python3.10/dist-packages (from matplotlib->catboost) (24.0)\n",
            "Requirement already satisfied: pillow>=6.2.0 in /usr/local/lib/python3.10/dist-packages (from matplotlib->catboost) (9.4.0)\n",
            "Requirement already satisfied: pyparsing>=2.3.1 in /usr/local/lib/python3.10/dist-packages (from matplotlib->catboost) (3.1.2)\n",
            "Requirement already satisfied: tenacity>=6.2.0 in /usr/local/lib/python3.10/dist-packages (from plotly->catboost) (8.2.3)\n",
            "Installing collected packages: catboost\n",
            "Successfully installed catboost-1.2.5\n"
          ]
        }
      ],
      "source": [
        "!pip install catboost"
      ]
    },
    {
      "cell_type": "code",
      "execution_count": 2,
      "metadata": {
        "id": "Xq1-Gh69jdr1"
      },
      "outputs": [],
      "source": [
        "import pandas as pd\n",
        "import numpy as np\n",
        "import os\n",
        "import matplotlib.pyplot as plt\n",
        "import seaborn as sns\n",
        "import random as rand\n",
        "\n",
        "from sklearn.model_selection import train_test_split\n",
        "from sklearn.preprocessing import StandardScaler\n",
        "from sklearn.neighbors import KNeighborsClassifier\n",
        "from sklearn.metrics import accuracy_score, mean_absolute_error, r2_score, mean_squared_error\n",
        "from sklearn.svm import SVC\n",
        "from sklearn.linear_model import LinearRegression, LogisticRegression\n",
        "from sklearn.preprocessing import LabelEncoder\n",
        "from sklearn.model_selection import cross_val_score\n",
        "from sklearn.naive_bayes import MultinomialNB\n",
        "from sklearn.preprocessing import MinMaxScaler\n",
        "from sklearn.tree import DecisionTreeClassifier\n",
        "from sklearn.ensemble import RandomForestClassifier\n",
        "from sklearn.model_selection import cross_val_score\n",
        "from catboost import CatBoostClassifier\n",
        "from sklearn.model_selection import cross_val_score\n",
        "from sklearn.impute import SimpleImputer\n",
        "from sklearn.impute import SimpleImputer\n",
        "from sklearn.model_selection import RandomizedSearchCV\n",
        "from sklearn.metrics import classification_report, confusion_matrix\n",
        "\n",
        "from sklearn.pipeline import Pipeline\n",
        "\n",
        "from sklearn.model_selection import GridSearchCV\n"
      ]
    },
    {
      "cell_type": "code",
      "execution_count": 3,
      "metadata": {
        "colab": {
          "base_uri": "https://localhost:8080/"
        },
        "id": "sXt-H8ScW4YO",
        "outputId": "91d9cbcc-35d6-4368-b2da-655a09cc0be1"
      },
      "outputs": [
        {
          "output_type": "stream",
          "name": "stdout",
          "text": [
            "Mounted at /content/drive\n"
          ]
        }
      ],
      "source": [
        "from google.colab import drive\n",
        "drive.mount('/content/drive',force_remount=True)"
      ]
    },
    {
      "cell_type": "code",
      "execution_count": 4,
      "metadata": {
        "id": "vEOaP5NUaTUs"
      },
      "outputs": [],
      "source": [
        "df = pd.read_csv(\"/content/drive/MyDrive/weatherAUS.csv\")"
      ]
    },
    {
      "cell_type": "code",
      "execution_count": 5,
      "metadata": {
        "colab": {
          "base_uri": "https://localhost:8080/",
          "height": 423
        },
        "id": "kwFlBzm8aizu",
        "outputId": "a0cf5e46-16ba-435f-9c3e-cfb4c75b86f4"
      },
      "outputs": [
        {
          "output_type": "execute_result",
          "data": {
            "text/plain": [
              "              Date Location  MinTemp  MaxTemp  Rainfall  Evaporation  \\\n",
              "0       2008-12-01   Albury     13.4     22.9       0.6          NaN   \n",
              "1       2008-12-02   Albury      7.4     25.1       0.0          NaN   \n",
              "2       2008-12-03   Albury     12.9     25.7       0.0          NaN   \n",
              "3       2008-12-04   Albury      9.2     28.0       0.0          NaN   \n",
              "4       2008-12-05   Albury     17.5     32.3       1.0          NaN   \n",
              "...            ...      ...      ...      ...       ...          ...   \n",
              "145455  2017-06-21    Uluru      2.8     23.4       0.0          NaN   \n",
              "145456  2017-06-22    Uluru      3.6     25.3       0.0          NaN   \n",
              "145457  2017-06-23    Uluru      5.4     26.9       0.0          NaN   \n",
              "145458  2017-06-24    Uluru      7.8     27.0       0.0          NaN   \n",
              "145459  2017-06-25    Uluru     14.9      NaN       0.0          NaN   \n",
              "\n",
              "        Sunshine WindGustDir  WindGustSpeed WindDir9am  ... Humidity9am  \\\n",
              "0            NaN           W           44.0          W  ...        71.0   \n",
              "1            NaN         WNW           44.0        NNW  ...        44.0   \n",
              "2            NaN         WSW           46.0          W  ...        38.0   \n",
              "3            NaN          NE           24.0         SE  ...        45.0   \n",
              "4            NaN           W           41.0        ENE  ...        82.0   \n",
              "...          ...         ...            ...        ...  ...         ...   \n",
              "145455       NaN           E           31.0         SE  ...        51.0   \n",
              "145456       NaN         NNW           22.0         SE  ...        56.0   \n",
              "145457       NaN           N           37.0         SE  ...        53.0   \n",
              "145458       NaN          SE           28.0        SSE  ...        51.0   \n",
              "145459       NaN         NaN            NaN        ESE  ...        62.0   \n",
              "\n",
              "        Humidity3pm  Pressure9am  Pressure3pm  Cloud9am  Cloud3pm  Temp9am  \\\n",
              "0              22.0       1007.7       1007.1       8.0       NaN     16.9   \n",
              "1              25.0       1010.6       1007.8       NaN       NaN     17.2   \n",
              "2              30.0       1007.6       1008.7       NaN       2.0     21.0   \n",
              "3              16.0       1017.6       1012.8       NaN       NaN     18.1   \n",
              "4              33.0       1010.8       1006.0       7.0       8.0     17.8   \n",
              "...             ...          ...          ...       ...       ...      ...   \n",
              "145455         24.0       1024.6       1020.3       NaN       NaN     10.1   \n",
              "145456         21.0       1023.5       1019.1       NaN       NaN     10.9   \n",
              "145457         24.0       1021.0       1016.8       NaN       NaN     12.5   \n",
              "145458         24.0       1019.4       1016.5       3.0       2.0     15.1   \n",
              "145459         36.0       1020.2       1017.9       8.0       8.0     15.0   \n",
              "\n",
              "        Temp3pm  RainToday  RainTomorrow  \n",
              "0          21.8         No            No  \n",
              "1          24.3         No            No  \n",
              "2          23.2         No            No  \n",
              "3          26.5         No            No  \n",
              "4          29.7         No            No  \n",
              "...         ...        ...           ...  \n",
              "145455     22.4         No            No  \n",
              "145456     24.5         No            No  \n",
              "145457     26.1         No            No  \n",
              "145458     26.0         No            No  \n",
              "145459     20.9         No           NaN  \n",
              "\n",
              "[145460 rows x 23 columns]"
            ],
            "text/html": [
              "\n",
              "  <div id=\"df-5d730586-5956-4d04-b783-5ba175fbe48a\" class=\"colab-df-container\">\n",
              "    <div>\n",
              "<style scoped>\n",
              "    .dataframe tbody tr th:only-of-type {\n",
              "        vertical-align: middle;\n",
              "    }\n",
              "\n",
              "    .dataframe tbody tr th {\n",
              "        vertical-align: top;\n",
              "    }\n",
              "\n",
              "    .dataframe thead th {\n",
              "        text-align: right;\n",
              "    }\n",
              "</style>\n",
              "<table border=\"1\" class=\"dataframe\">\n",
              "  <thead>\n",
              "    <tr style=\"text-align: right;\">\n",
              "      <th></th>\n",
              "      <th>Date</th>\n",
              "      <th>Location</th>\n",
              "      <th>MinTemp</th>\n",
              "      <th>MaxTemp</th>\n",
              "      <th>Rainfall</th>\n",
              "      <th>Evaporation</th>\n",
              "      <th>Sunshine</th>\n",
              "      <th>WindGustDir</th>\n",
              "      <th>WindGustSpeed</th>\n",
              "      <th>WindDir9am</th>\n",
              "      <th>...</th>\n",
              "      <th>Humidity9am</th>\n",
              "      <th>Humidity3pm</th>\n",
              "      <th>Pressure9am</th>\n",
              "      <th>Pressure3pm</th>\n",
              "      <th>Cloud9am</th>\n",
              "      <th>Cloud3pm</th>\n",
              "      <th>Temp9am</th>\n",
              "      <th>Temp3pm</th>\n",
              "      <th>RainToday</th>\n",
              "      <th>RainTomorrow</th>\n",
              "    </tr>\n",
              "  </thead>\n",
              "  <tbody>\n",
              "    <tr>\n",
              "      <th>0</th>\n",
              "      <td>2008-12-01</td>\n",
              "      <td>Albury</td>\n",
              "      <td>13.4</td>\n",
              "      <td>22.9</td>\n",
              "      <td>0.6</td>\n",
              "      <td>NaN</td>\n",
              "      <td>NaN</td>\n",
              "      <td>W</td>\n",
              "      <td>44.0</td>\n",
              "      <td>W</td>\n",
              "      <td>...</td>\n",
              "      <td>71.0</td>\n",
              "      <td>22.0</td>\n",
              "      <td>1007.7</td>\n",
              "      <td>1007.1</td>\n",
              "      <td>8.0</td>\n",
              "      <td>NaN</td>\n",
              "      <td>16.9</td>\n",
              "      <td>21.8</td>\n",
              "      <td>No</td>\n",
              "      <td>No</td>\n",
              "    </tr>\n",
              "    <tr>\n",
              "      <th>1</th>\n",
              "      <td>2008-12-02</td>\n",
              "      <td>Albury</td>\n",
              "      <td>7.4</td>\n",
              "      <td>25.1</td>\n",
              "      <td>0.0</td>\n",
              "      <td>NaN</td>\n",
              "      <td>NaN</td>\n",
              "      <td>WNW</td>\n",
              "      <td>44.0</td>\n",
              "      <td>NNW</td>\n",
              "      <td>...</td>\n",
              "      <td>44.0</td>\n",
              "      <td>25.0</td>\n",
              "      <td>1010.6</td>\n",
              "      <td>1007.8</td>\n",
              "      <td>NaN</td>\n",
              "      <td>NaN</td>\n",
              "      <td>17.2</td>\n",
              "      <td>24.3</td>\n",
              "      <td>No</td>\n",
              "      <td>No</td>\n",
              "    </tr>\n",
              "    <tr>\n",
              "      <th>2</th>\n",
              "      <td>2008-12-03</td>\n",
              "      <td>Albury</td>\n",
              "      <td>12.9</td>\n",
              "      <td>25.7</td>\n",
              "      <td>0.0</td>\n",
              "      <td>NaN</td>\n",
              "      <td>NaN</td>\n",
              "      <td>WSW</td>\n",
              "      <td>46.0</td>\n",
              "      <td>W</td>\n",
              "      <td>...</td>\n",
              "      <td>38.0</td>\n",
              "      <td>30.0</td>\n",
              "      <td>1007.6</td>\n",
              "      <td>1008.7</td>\n",
              "      <td>NaN</td>\n",
              "      <td>2.0</td>\n",
              "      <td>21.0</td>\n",
              "      <td>23.2</td>\n",
              "      <td>No</td>\n",
              "      <td>No</td>\n",
              "    </tr>\n",
              "    <tr>\n",
              "      <th>3</th>\n",
              "      <td>2008-12-04</td>\n",
              "      <td>Albury</td>\n",
              "      <td>9.2</td>\n",
              "      <td>28.0</td>\n",
              "      <td>0.0</td>\n",
              "      <td>NaN</td>\n",
              "      <td>NaN</td>\n",
              "      <td>NE</td>\n",
              "      <td>24.0</td>\n",
              "      <td>SE</td>\n",
              "      <td>...</td>\n",
              "      <td>45.0</td>\n",
              "      <td>16.0</td>\n",
              "      <td>1017.6</td>\n",
              "      <td>1012.8</td>\n",
              "      <td>NaN</td>\n",
              "      <td>NaN</td>\n",
              "      <td>18.1</td>\n",
              "      <td>26.5</td>\n",
              "      <td>No</td>\n",
              "      <td>No</td>\n",
              "    </tr>\n",
              "    <tr>\n",
              "      <th>4</th>\n",
              "      <td>2008-12-05</td>\n",
              "      <td>Albury</td>\n",
              "      <td>17.5</td>\n",
              "      <td>32.3</td>\n",
              "      <td>1.0</td>\n",
              "      <td>NaN</td>\n",
              "      <td>NaN</td>\n",
              "      <td>W</td>\n",
              "      <td>41.0</td>\n",
              "      <td>ENE</td>\n",
              "      <td>...</td>\n",
              "      <td>82.0</td>\n",
              "      <td>33.0</td>\n",
              "      <td>1010.8</td>\n",
              "      <td>1006.0</td>\n",
              "      <td>7.0</td>\n",
              "      <td>8.0</td>\n",
              "      <td>17.8</td>\n",
              "      <td>29.7</td>\n",
              "      <td>No</td>\n",
              "      <td>No</td>\n",
              "    </tr>\n",
              "    <tr>\n",
              "      <th>...</th>\n",
              "      <td>...</td>\n",
              "      <td>...</td>\n",
              "      <td>...</td>\n",
              "      <td>...</td>\n",
              "      <td>...</td>\n",
              "      <td>...</td>\n",
              "      <td>...</td>\n",
              "      <td>...</td>\n",
              "      <td>...</td>\n",
              "      <td>...</td>\n",
              "      <td>...</td>\n",
              "      <td>...</td>\n",
              "      <td>...</td>\n",
              "      <td>...</td>\n",
              "      <td>...</td>\n",
              "      <td>...</td>\n",
              "      <td>...</td>\n",
              "      <td>...</td>\n",
              "      <td>...</td>\n",
              "      <td>...</td>\n",
              "      <td>...</td>\n",
              "    </tr>\n",
              "    <tr>\n",
              "      <th>145455</th>\n",
              "      <td>2017-06-21</td>\n",
              "      <td>Uluru</td>\n",
              "      <td>2.8</td>\n",
              "      <td>23.4</td>\n",
              "      <td>0.0</td>\n",
              "      <td>NaN</td>\n",
              "      <td>NaN</td>\n",
              "      <td>E</td>\n",
              "      <td>31.0</td>\n",
              "      <td>SE</td>\n",
              "      <td>...</td>\n",
              "      <td>51.0</td>\n",
              "      <td>24.0</td>\n",
              "      <td>1024.6</td>\n",
              "      <td>1020.3</td>\n",
              "      <td>NaN</td>\n",
              "      <td>NaN</td>\n",
              "      <td>10.1</td>\n",
              "      <td>22.4</td>\n",
              "      <td>No</td>\n",
              "      <td>No</td>\n",
              "    </tr>\n",
              "    <tr>\n",
              "      <th>145456</th>\n",
              "      <td>2017-06-22</td>\n",
              "      <td>Uluru</td>\n",
              "      <td>3.6</td>\n",
              "      <td>25.3</td>\n",
              "      <td>0.0</td>\n",
              "      <td>NaN</td>\n",
              "      <td>NaN</td>\n",
              "      <td>NNW</td>\n",
              "      <td>22.0</td>\n",
              "      <td>SE</td>\n",
              "      <td>...</td>\n",
              "      <td>56.0</td>\n",
              "      <td>21.0</td>\n",
              "      <td>1023.5</td>\n",
              "      <td>1019.1</td>\n",
              "      <td>NaN</td>\n",
              "      <td>NaN</td>\n",
              "      <td>10.9</td>\n",
              "      <td>24.5</td>\n",
              "      <td>No</td>\n",
              "      <td>No</td>\n",
              "    </tr>\n",
              "    <tr>\n",
              "      <th>145457</th>\n",
              "      <td>2017-06-23</td>\n",
              "      <td>Uluru</td>\n",
              "      <td>5.4</td>\n",
              "      <td>26.9</td>\n",
              "      <td>0.0</td>\n",
              "      <td>NaN</td>\n",
              "      <td>NaN</td>\n",
              "      <td>N</td>\n",
              "      <td>37.0</td>\n",
              "      <td>SE</td>\n",
              "      <td>...</td>\n",
              "      <td>53.0</td>\n",
              "      <td>24.0</td>\n",
              "      <td>1021.0</td>\n",
              "      <td>1016.8</td>\n",
              "      <td>NaN</td>\n",
              "      <td>NaN</td>\n",
              "      <td>12.5</td>\n",
              "      <td>26.1</td>\n",
              "      <td>No</td>\n",
              "      <td>No</td>\n",
              "    </tr>\n",
              "    <tr>\n",
              "      <th>145458</th>\n",
              "      <td>2017-06-24</td>\n",
              "      <td>Uluru</td>\n",
              "      <td>7.8</td>\n",
              "      <td>27.0</td>\n",
              "      <td>0.0</td>\n",
              "      <td>NaN</td>\n",
              "      <td>NaN</td>\n",
              "      <td>SE</td>\n",
              "      <td>28.0</td>\n",
              "      <td>SSE</td>\n",
              "      <td>...</td>\n",
              "      <td>51.0</td>\n",
              "      <td>24.0</td>\n",
              "      <td>1019.4</td>\n",
              "      <td>1016.5</td>\n",
              "      <td>3.0</td>\n",
              "      <td>2.0</td>\n",
              "      <td>15.1</td>\n",
              "      <td>26.0</td>\n",
              "      <td>No</td>\n",
              "      <td>No</td>\n",
              "    </tr>\n",
              "    <tr>\n",
              "      <th>145459</th>\n",
              "      <td>2017-06-25</td>\n",
              "      <td>Uluru</td>\n",
              "      <td>14.9</td>\n",
              "      <td>NaN</td>\n",
              "      <td>0.0</td>\n",
              "      <td>NaN</td>\n",
              "      <td>NaN</td>\n",
              "      <td>NaN</td>\n",
              "      <td>NaN</td>\n",
              "      <td>ESE</td>\n",
              "      <td>...</td>\n",
              "      <td>62.0</td>\n",
              "      <td>36.0</td>\n",
              "      <td>1020.2</td>\n",
              "      <td>1017.9</td>\n",
              "      <td>8.0</td>\n",
              "      <td>8.0</td>\n",
              "      <td>15.0</td>\n",
              "      <td>20.9</td>\n",
              "      <td>No</td>\n",
              "      <td>NaN</td>\n",
              "    </tr>\n",
              "  </tbody>\n",
              "</table>\n",
              "<p>145460 rows × 23 columns</p>\n",
              "</div>\n",
              "    <div class=\"colab-df-buttons\">\n",
              "\n",
              "  <div class=\"colab-df-container\">\n",
              "    <button class=\"colab-df-convert\" onclick=\"convertToInteractive('df-5d730586-5956-4d04-b783-5ba175fbe48a')\"\n",
              "            title=\"Convert this dataframe to an interactive table.\"\n",
              "            style=\"display:none;\">\n",
              "\n",
              "  <svg xmlns=\"http://www.w3.org/2000/svg\" height=\"24px\" viewBox=\"0 -960 960 960\">\n",
              "    <path d=\"M120-120v-720h720v720H120Zm60-500h600v-160H180v160Zm220 220h160v-160H400v160Zm0 220h160v-160H400v160ZM180-400h160v-160H180v160Zm440 0h160v-160H620v160ZM180-180h160v-160H180v160Zm440 0h160v-160H620v160Z\"/>\n",
              "  </svg>\n",
              "    </button>\n",
              "\n",
              "  <style>\n",
              "    .colab-df-container {\n",
              "      display:flex;\n",
              "      gap: 12px;\n",
              "    }\n",
              "\n",
              "    .colab-df-convert {\n",
              "      background-color: #E8F0FE;\n",
              "      border: none;\n",
              "      border-radius: 50%;\n",
              "      cursor: pointer;\n",
              "      display: none;\n",
              "      fill: #1967D2;\n",
              "      height: 32px;\n",
              "      padding: 0 0 0 0;\n",
              "      width: 32px;\n",
              "    }\n",
              "\n",
              "    .colab-df-convert:hover {\n",
              "      background-color: #E2EBFA;\n",
              "      box-shadow: 0px 1px 2px rgba(60, 64, 67, 0.3), 0px 1px 3px 1px rgba(60, 64, 67, 0.15);\n",
              "      fill: #174EA6;\n",
              "    }\n",
              "\n",
              "    .colab-df-buttons div {\n",
              "      margin-bottom: 4px;\n",
              "    }\n",
              "\n",
              "    [theme=dark] .colab-df-convert {\n",
              "      background-color: #3B4455;\n",
              "      fill: #D2E3FC;\n",
              "    }\n",
              "\n",
              "    [theme=dark] .colab-df-convert:hover {\n",
              "      background-color: #434B5C;\n",
              "      box-shadow: 0px 1px 3px 1px rgba(0, 0, 0, 0.15);\n",
              "      filter: drop-shadow(0px 1px 2px rgba(0, 0, 0, 0.3));\n",
              "      fill: #FFFFFF;\n",
              "    }\n",
              "  </style>\n",
              "\n",
              "    <script>\n",
              "      const buttonEl =\n",
              "        document.querySelector('#df-5d730586-5956-4d04-b783-5ba175fbe48a button.colab-df-convert');\n",
              "      buttonEl.style.display =\n",
              "        google.colab.kernel.accessAllowed ? 'block' : 'none';\n",
              "\n",
              "      async function convertToInteractive(key) {\n",
              "        const element = document.querySelector('#df-5d730586-5956-4d04-b783-5ba175fbe48a');\n",
              "        const dataTable =\n",
              "          await google.colab.kernel.invokeFunction('convertToInteractive',\n",
              "                                                    [key], {});\n",
              "        if (!dataTable) return;\n",
              "\n",
              "        const docLinkHtml = 'Like what you see? Visit the ' +\n",
              "          '<a target=\"_blank\" href=https://colab.research.google.com/notebooks/data_table.ipynb>data table notebook</a>'\n",
              "          + ' to learn more about interactive tables.';\n",
              "        element.innerHTML = '';\n",
              "        dataTable['output_type'] = 'display_data';\n",
              "        await google.colab.output.renderOutput(dataTable, element);\n",
              "        const docLink = document.createElement('div');\n",
              "        docLink.innerHTML = docLinkHtml;\n",
              "        element.appendChild(docLink);\n",
              "      }\n",
              "    </script>\n",
              "  </div>\n",
              "\n",
              "\n",
              "<div id=\"df-4048cb3f-d4d8-4cdf-9308-9c7f9b00f103\">\n",
              "  <button class=\"colab-df-quickchart\" onclick=\"quickchart('df-4048cb3f-d4d8-4cdf-9308-9c7f9b00f103')\"\n",
              "            title=\"Suggest charts\"\n",
              "            style=\"display:none;\">\n",
              "\n",
              "<svg xmlns=\"http://www.w3.org/2000/svg\" height=\"24px\"viewBox=\"0 0 24 24\"\n",
              "     width=\"24px\">\n",
              "    <g>\n",
              "        <path d=\"M19 3H5c-1.1 0-2 .9-2 2v14c0 1.1.9 2 2 2h14c1.1 0 2-.9 2-2V5c0-1.1-.9-2-2-2zM9 17H7v-7h2v7zm4 0h-2V7h2v10zm4 0h-2v-4h2v4z\"/>\n",
              "    </g>\n",
              "</svg>\n",
              "  </button>\n",
              "\n",
              "<style>\n",
              "  .colab-df-quickchart {\n",
              "      --bg-color: #E8F0FE;\n",
              "      --fill-color: #1967D2;\n",
              "      --hover-bg-color: #E2EBFA;\n",
              "      --hover-fill-color: #174EA6;\n",
              "      --disabled-fill-color: #AAA;\n",
              "      --disabled-bg-color: #DDD;\n",
              "  }\n",
              "\n",
              "  [theme=dark] .colab-df-quickchart {\n",
              "      --bg-color: #3B4455;\n",
              "      --fill-color: #D2E3FC;\n",
              "      --hover-bg-color: #434B5C;\n",
              "      --hover-fill-color: #FFFFFF;\n",
              "      --disabled-bg-color: #3B4455;\n",
              "      --disabled-fill-color: #666;\n",
              "  }\n",
              "\n",
              "  .colab-df-quickchart {\n",
              "    background-color: var(--bg-color);\n",
              "    border: none;\n",
              "    border-radius: 50%;\n",
              "    cursor: pointer;\n",
              "    display: none;\n",
              "    fill: var(--fill-color);\n",
              "    height: 32px;\n",
              "    padding: 0;\n",
              "    width: 32px;\n",
              "  }\n",
              "\n",
              "  .colab-df-quickchart:hover {\n",
              "    background-color: var(--hover-bg-color);\n",
              "    box-shadow: 0 1px 2px rgba(60, 64, 67, 0.3), 0 1px 3px 1px rgba(60, 64, 67, 0.15);\n",
              "    fill: var(--button-hover-fill-color);\n",
              "  }\n",
              "\n",
              "  .colab-df-quickchart-complete:disabled,\n",
              "  .colab-df-quickchart-complete:disabled:hover {\n",
              "    background-color: var(--disabled-bg-color);\n",
              "    fill: var(--disabled-fill-color);\n",
              "    box-shadow: none;\n",
              "  }\n",
              "\n",
              "  .colab-df-spinner {\n",
              "    border: 2px solid var(--fill-color);\n",
              "    border-color: transparent;\n",
              "    border-bottom-color: var(--fill-color);\n",
              "    animation:\n",
              "      spin 1s steps(1) infinite;\n",
              "  }\n",
              "\n",
              "  @keyframes spin {\n",
              "    0% {\n",
              "      border-color: transparent;\n",
              "      border-bottom-color: var(--fill-color);\n",
              "      border-left-color: var(--fill-color);\n",
              "    }\n",
              "    20% {\n",
              "      border-color: transparent;\n",
              "      border-left-color: var(--fill-color);\n",
              "      border-top-color: var(--fill-color);\n",
              "    }\n",
              "    30% {\n",
              "      border-color: transparent;\n",
              "      border-left-color: var(--fill-color);\n",
              "      border-top-color: var(--fill-color);\n",
              "      border-right-color: var(--fill-color);\n",
              "    }\n",
              "    40% {\n",
              "      border-color: transparent;\n",
              "      border-right-color: var(--fill-color);\n",
              "      border-top-color: var(--fill-color);\n",
              "    }\n",
              "    60% {\n",
              "      border-color: transparent;\n",
              "      border-right-color: var(--fill-color);\n",
              "    }\n",
              "    80% {\n",
              "      border-color: transparent;\n",
              "      border-right-color: var(--fill-color);\n",
              "      border-bottom-color: var(--fill-color);\n",
              "    }\n",
              "    90% {\n",
              "      border-color: transparent;\n",
              "      border-bottom-color: var(--fill-color);\n",
              "    }\n",
              "  }\n",
              "</style>\n",
              "\n",
              "  <script>\n",
              "    async function quickchart(key) {\n",
              "      const quickchartButtonEl =\n",
              "        document.querySelector('#' + key + ' button');\n",
              "      quickchartButtonEl.disabled = true;  // To prevent multiple clicks.\n",
              "      quickchartButtonEl.classList.add('colab-df-spinner');\n",
              "      try {\n",
              "        const charts = await google.colab.kernel.invokeFunction(\n",
              "            'suggestCharts', [key], {});\n",
              "      } catch (error) {\n",
              "        console.error('Error during call to suggestCharts:', error);\n",
              "      }\n",
              "      quickchartButtonEl.classList.remove('colab-df-spinner');\n",
              "      quickchartButtonEl.classList.add('colab-df-quickchart-complete');\n",
              "    }\n",
              "    (() => {\n",
              "      let quickchartButtonEl =\n",
              "        document.querySelector('#df-4048cb3f-d4d8-4cdf-9308-9c7f9b00f103 button');\n",
              "      quickchartButtonEl.style.display =\n",
              "        google.colab.kernel.accessAllowed ? 'block' : 'none';\n",
              "    })();\n",
              "  </script>\n",
              "</div>\n",
              "    </div>\n",
              "  </div>\n"
            ],
            "application/vnd.google.colaboratory.intrinsic+json": {
              "type": "dataframe",
              "variable_name": "df"
            }
          },
          "metadata": {},
          "execution_count": 5
        }
      ],
      "source": [
        "df"
      ]
    },
    {
      "cell_type": "markdown",
      "metadata": {
        "id": "xi1ZuPlRNqBO"
      },
      "source": [
        "### Сводка данных о датасете"
      ]
    },
    {
      "cell_type": "code",
      "execution_count": 6,
      "metadata": {
        "colab": {
          "base_uri": "https://localhost:8080/"
        },
        "id": "657P9hqAjsl5",
        "outputId": "49869297-f19b-43c4-efb2-6be30bd0fa27"
      },
      "outputs": [
        {
          "output_type": "stream",
          "name": "stdout",
          "text": [
            "<class 'pandas.core.frame.DataFrame'>\n",
            "RangeIndex: 145460 entries, 0 to 145459\n",
            "Data columns (total 23 columns):\n",
            " #   Column         Non-Null Count   Dtype  \n",
            "---  ------         --------------   -----  \n",
            " 0   Date           145460 non-null  object \n",
            " 1   Location       145460 non-null  object \n",
            " 2   MinTemp        143975 non-null  float64\n",
            " 3   MaxTemp        144199 non-null  float64\n",
            " 4   Rainfall       142199 non-null  float64\n",
            " 5   Evaporation    82670 non-null   float64\n",
            " 6   Sunshine       75625 non-null   float64\n",
            " 7   WindGustDir    135134 non-null  object \n",
            " 8   WindGustSpeed  135197 non-null  float64\n",
            " 9   WindDir9am     134894 non-null  object \n",
            " 10  WindDir3pm     141232 non-null  object \n",
            " 11  WindSpeed9am   143693 non-null  float64\n",
            " 12  WindSpeed3pm   142398 non-null  float64\n",
            " 13  Humidity9am    142806 non-null  float64\n",
            " 14  Humidity3pm    140953 non-null  float64\n",
            " 15  Pressure9am    130395 non-null  float64\n",
            " 16  Pressure3pm    130432 non-null  float64\n",
            " 17  Cloud9am       89572 non-null   float64\n",
            " 18  Cloud3pm       86102 non-null   float64\n",
            " 19  Temp9am        143693 non-null  float64\n",
            " 20  Temp3pm        141851 non-null  float64\n",
            " 21  RainToday      142199 non-null  object \n",
            " 22  RainTomorrow   142193 non-null  object \n",
            "dtypes: float64(16), object(7)\n",
            "memory usage: 25.5+ MB\n"
          ]
        }
      ],
      "source": [
        "df.info()"
      ]
    },
    {
      "cell_type": "markdown",
      "metadata": {
        "id": "S61iDTsHmLoI"
      },
      "source": [
        "Некоторые признаки имеют категориальные значения, имеются отсутствующие значения, необходимо провести очистку данных."
      ]
    },
    {
      "cell_type": "markdown",
      "metadata": {
        "id": "IxrZhUFNbRIT"
      },
      "source": [
        "## Очистка данных"
      ]
    },
    {
      "cell_type": "code",
      "source": [
        "sns.countplot(x=df[\"RainTomorrow\"], palette=[\"#C2C4E2\", \"#EED4E5\"])"
      ],
      "metadata": {
        "id": "aTbEob6xXP_t",
        "colab": {
          "base_uri": "https://localhost:8080/",
          "height": 560
        },
        "outputId": "37abca1f-c347-4159-b201-c48821cb3e00"
      },
      "execution_count": 14,
      "outputs": [
        {
          "output_type": "stream",
          "name": "stderr",
          "text": [
            "<ipython-input-14-a8f9ca5b2d50>:1: FutureWarning: \n",
            "\n",
            "Passing `palette` without assigning `hue` is deprecated and will be removed in v0.14.0. Assign the `x` variable to `hue` and set `legend=False` for the same effect.\n",
            "\n",
            "  sns.countplot(x=df[\"RainTomorrow\"], palette=[\"#C2C4E2\", \"#EED4E5\"])\n"
          ]
        },
        {
          "output_type": "execute_result",
          "data": {
            "text/plain": [
              "<Axes: xlabel='RainTomorrow', ylabel='count'>"
            ]
          },
          "metadata": {},
          "execution_count": 14
        },
        {
          "output_type": "display_data",
          "data": {
            "text/plain": [
              "<Figure size 640x480 with 1 Axes>"
            ],
            "image/png": "[encoded data removed]"
          },
          "metadata": {}
        }
      ]
    },
    {
      "cell_type": "markdown",
      "source": [
        "Данные несбалансированы, количество значений \"No\" значитаельно превышает количество значений Yes."
      ],
      "metadata": {
        "id": "YJox2CtoEcs4"
      }
    },
    {
      "cell_type": "markdown",
      "source": [
        "Преобразование столбца с датой в формат datetime"
      ],
      "metadata": {
        "id": "UoNFUaxVEs7A"
      }
    },
    {
      "cell_type": "code",
      "source": [
        "df['Date'] = pd.to_datetime(df['Date'])\n",
        "\n",
        "# Преобразование даты  год, месяц и день\n",
        "df['year'] = df.Date.dt.year\n",
        "df['month'] = df.Date.dt.month\n",
        "df['day'] = df.Date.dt.day\n",
        "\n",
        "def encode(data, col, max_val):\n",
        "    data[col + '_sin'] = np.sin(2 * np.pi * data[col] / max_val)\n",
        "    data[col + '_cos'] = np.cos(2 * np.pi * data[col] / max_val)\n",
        "    return data\n",
        "\n",
        "# Кодирование месяца и дня в циклические параметры\n",
        "df = encode(df, 'month', 12)\n",
        "df = encode(df, 'day', 31)"
      ],
      "metadata": {
        "id": "ZOLgbDQ7EqJu"
      },
      "execution_count": 16,
      "outputs": []
    },
    {
      "cell_type": "markdown",
      "source": [
        "Заполним отсутствующие значения"
      ],
      "metadata": {
        "id": "aC_3LghAFT0h"
      }
    },
    {
      "cell_type": "code",
      "source": [
        "# Замена отсутствующих значений в категориальных переменных модой\n",
        "object_cols = df.select_dtypes(include='object').columns\n",
        "for col in object_cols:\n",
        "    df[col].fillna(df[col].mode()[0], inplace=True)\n",
        "\n",
        "# Замена отсутствующих значений в числовых переменных медианой\n",
        "numeric_cols = df.select_dtypes(include='float64').columns\n",
        "for col in numeric_cols:\n",
        "    df[col].fillna(df[col].median(), inplace=True)\n"
      ],
      "metadata": {
        "id": "hq7BDRFfN_aj"
      },
      "execution_count": 18,
      "outputs": []
    },
    {
      "cell_type": "code",
      "source": [
        "label_encoder = LabelEncoder()\n",
        "for i in object_cols:\n",
        "    df[i] = label_encoder.fit_transform(df[i])\n",
        "\n",
        "features = df.drop(['RainTomorrow', 'Date','day', 'month'], axis=1) # dropping target and extra columns\n",
        "\n",
        "target = df['RainTomorrow']\n",
        "\n",
        "col_names = list(features.columns)\n",
        "s_scaler = StandardScaler()\n",
        "features = s_scaler.fit_transform(features)\n",
        "features = pd.DataFrame(features, columns=col_names)\n",
        "\n",
        "features.describe().T\n",
        "\n",
        "features[\"RainTomorrow\"] = target\n",
        "\n",
        "\n",
        "features = features[(features[\"MinTemp\"]<2.3)&(features[\"MinTemp\"]>-2.3)]\n",
        "features = features[(features[\"MaxTemp\"]<2.3)&(features[\"MaxTemp\"]>-2)]\n",
        "features = features[(features[\"Rainfall\"]<4.5)]\n",
        "features = features[(features[\"Evaporation\"]<2.8)]\n",
        "features = features[(features[\"Sunshine\"]<2.1)]\n",
        "features = features[(features[\"WindGustSpeed\"]<4)&(features[\"WindGustSpeed\"]>-4)]\n",
        "features = features[(features[\"WindSpeed9am\"]<4)]\n",
        "features = features[(features[\"WindSpeed3pm\"]<2.5)]\n",
        "features = features[(features[\"Humidity9am\"]>-3)]\n",
        "features = features[(features[\"Humidity3pm\"]>-2.2)]\n",
        "features = features[(features[\"Pressure9am\"]< 2)&(features[\"Pressure9am\"]>-2.7)]\n",
        "features = features[(features[\"Pressure3pm\"]< 2)&(features[\"Pressure3pm\"]>-2.7)]\n",
        "features = features[(features[\"Cloud9am\"]<1.8)]\n",
        "features = features[(features[\"Cloud3pm\"]<2)]\n",
        "features = features[(features[\"Temp9am\"]<2.3)&(features[\"Temp9am\"]>-2)]\n",
        "features = features[(features[\"Temp3pm\"]<2.3)&(features[\"Temp3pm\"]>-2)]\n",
        "\n",
        "\n",
        "features.shape\n",
        "\n"
      ],
      "metadata": {
        "colab": {
          "base_uri": "https://localhost:8080/"
        },
        "id": "x7vGYUkUSavQ",
        "outputId": "81c830de-ca0f-451d-cbd3-b8a683904812"
      },
      "execution_count": 9,
      "outputs": [
        {
          "output_type": "execute_result",
          "data": {
            "text/plain": [
              "(127536, 27)"
            ]
          },
          "metadata": {},
          "execution_count": 9
        }
      ]
    },
    {
      "cell_type": "markdown",
      "metadata": {
        "id": "k2HZyr54sI_k"
      },
      "source": [
        "Удалим строки в которых отсутствует RainTomorrow"
      ]
    },
    {
      "cell_type": "code",
      "execution_count": null,
      "metadata": {
        "colab": {
          "base_uri": "https://localhost:8080/"
        },
        "id": "eOyMiRa8hiUM",
        "outputId": "06877bc6-f5ef-4bba-c942-4c9d4480ce62"
      },
      "outputs": [
        {
          "output_type": "stream",
          "name": "stdout",
          "text": [
            "<class 'pandas.core.frame.DataFrame'>\n",
            "Index: 142193 entries, 0 to 145458\n",
            "Data columns (total 23 columns):\n",
            " #   Column         Non-Null Count   Dtype         \n",
            "---  ------         --------------   -----         \n",
            " 0   Date           142193 non-null  datetime64[ns]\n",
            " 1   Location       142193 non-null  int64         \n",
            " 2   MinTemp        141556 non-null  float64       \n",
            " 3   MaxTemp        141871 non-null  float64       \n",
            " 4   Rainfall       140787 non-null  float64       \n",
            " 5   Evaporation    81350 non-null   float64       \n",
            " 6   Sunshine       74377 non-null   float64       \n",
            " 7   WindGustDir    142193 non-null  int64         \n",
            " 8   WindGustSpeed  132923 non-null  float64       \n",
            " 9   WindDir9am     142193 non-null  int64         \n",
            " 10  WindDir3pm     142193 non-null  int64         \n",
            " 11  WindSpeed9am   140845 non-null  float64       \n",
            " 12  WindSpeed3pm   139563 non-null  float64       \n",
            " 13  Humidity9am    140419 non-null  float64       \n",
            " 14  Humidity3pm    138583 non-null  float64       \n",
            " 15  Pressure9am    128179 non-null  float64       \n",
            " 16  Pressure3pm    128212 non-null  float64       \n",
            " 17  Cloud9am       88536 non-null   float64       \n",
            " 18  Cloud3pm       85099 non-null   float64       \n",
            " 19  Temp9am        141289 non-null  float64       \n",
            " 20  Temp3pm        139467 non-null  float64       \n",
            " 21  RainToday      142193 non-null  int64         \n",
            " 22  RainTomorrow   142193 non-null  int64         \n",
            "dtypes: datetime64[ns](1), float64(16), int64(6)\n",
            "memory usage: 26.0 MB\n"
          ]
        }
      ],
      "source": [
        "df.info()"
      ]
    },
    {
      "cell_type": "markdown",
      "metadata": {
        "id": "PHQrJ1ZvdLVh"
      },
      "source": [
        "### Разделение данных на признаки и целевую переменную"
      ]
    },
    {
      "cell_type": "code",
      "execution_count": 10,
      "metadata": {
        "id": "W2cydCRK-OXL",
        "colab": {
          "base_uri": "https://localhost:8080/"
        },
        "outputId": "2b670f8a-78b1-4b3f-87b6-de45fd71d48f"
      },
      "outputs": [
        {
          "output_type": "execute_result",
          "data": {
            "text/plain": [
              "(127536, 26)"
            ]
          },
          "metadata": {},
          "execution_count": 10
        }
      ],
      "source": [
        "X = features.drop([\"RainTomorrow\"], axis=1)\n",
        "y = features[\"RainTomorrow\"]\n",
        "\n",
        "# Splitting test and training sets\n",
        "X_train, X_test, y_train, y_test = train_test_split(X, y, test_size = 0.2, random_state = 42)\n",
        "\n",
        "X.shape\n"
      ]
    },
    {
      "cell_type": "markdown",
      "metadata": {
        "id": "Uhyd_ec0dV8e"
      },
      "source": [
        "## Модель knn\n"
      ]
    },
    {
      "cell_type": "markdown",
      "metadata": {
        "id": "pXRUyAgwml6w"
      },
      "source": [
        "Для приведения данных к одному масштабу произведено скалирование с помощью StandartScaler."
      ]
    },
    {
      "cell_type": "code",
      "execution_count": null,
      "metadata": {
        "id": "KbgzP0Ydvxn5"
      },
      "outputs": [],
      "source": [
        "k_range = [3, 5, 7, 9, 11, 13, 15]\n",
        "algorithms = ['ball_tree', 'kd_tree', 'brute']\n",
        "metrics = [\n",
        "    'euclidean',\n",
        "    'manhattan',\n",
        "    'minkowski',\n",
        "    'chebyshev',\n",
        "    'hamming',\n",
        "    'canberra',\n",
        "    'braycurtis'\n",
        "]"
      ]
    },
    {
      "cell_type": "code",
      "execution_count": null,
      "metadata": {
        "id": "D_S8IeRYv6kf"
      },
      "outputs": [],
      "source": [
        "parameters = {\n",
        "    'n_neighbors': k_range, # число учитываемых соседей\n",
        "    'algorithm': algorithms, # алгоритмы поиска соседей\n",
        "    'weights': ['uniform', 'distance'], # веса соседей\n",
        "    'leaf_size': [10, 20, 30, 40], # размер листа, используемый в BallTree или KDTree\n",
        "    'metric': metrics, # метрики расстояния\n",
        "}"
      ]
    },
    {
      "cell_type": "code",
      "execution_count": null,
      "metadata": {
        "id": "IDW0tEE4R09P",
        "colab": {
          "base_uri": "https://localhost:8080/",
          "height": 543
        },
        "outputId": "5e6dc1fa-9c8b-452c-899d-7cf726fd88a5"
      },
      "outputs": [
        {
          "output_type": "stream",
          "name": "stderr",
          "text": [
            "/usr/local/lib/python3.10/dist-packages/sklearn/model_selection/_validation.py:378: FitFailedWarning: \n",
            "5 fits failed out of a total of 50.\n",
            "The score on these train-test partitions for these parameters will be set to nan.\n",
            "If these failures are not expected, you can try to debug them by setting error_score='raise'.\n",
            "\n",
            "Below are more details about the failures:\n",
            "--------------------------------------------------------------------------------\n",
            "5 fits failed with the following error:\n",
            "Traceback (most recent call last):\n",
            "  File \"/usr/local/lib/python3.10/dist-packages/sklearn/model_selection/_validation.py\", line 686, in _fit_and_score\n",
            "    estimator.fit(X_train, y_train, **fit_params)\n",
            "  File \"/usr/local/lib/python3.10/dist-packages/sklearn/neighbors/_classification.py\", line 215, in fit\n",
            "    return self._fit(X, y)\n",
            "  File \"/usr/local/lib/python3.10/dist-packages/sklearn/neighbors/_base.py\", line 493, in _fit\n",
            "    self._check_algorithm_metric()\n",
            "  File \"/usr/local/lib/python3.10/dist-packages/sklearn/neighbors/_base.py\", line 434, in _check_algorithm_metric\n",
            "    raise ValueError(\n",
            "ValueError: Metric 'hamming' not valid. Use sorted(sklearn.neighbors.VALID_METRICS['kd_tree']) to get valid options. Metric can also be a callable function.\n",
            "\n",
            "  warnings.warn(some_fits_failed_message, FitFailedWarning)\n",
            "/usr/local/lib/python3.10/dist-packages/sklearn/model_selection/_search.py:952: UserWarning: One or more of the test scores are non-finite: [0.53054773 0.55956317 0.51831731 0.54607898 0.5333005         nan\n",
            " 0.55964184 0.53352341 0.5388263  0.39080747]\n",
            "  warnings.warn(\n"
          ]
        },
        {
          "output_type": "execute_result",
          "data": {
            "text/plain": [
              "RandomizedSearchCV(estimator=KNeighborsClassifier(), n_jobs=-1,\n",
              "                   param_distributions={'algorithm': ['ball_tree', 'kd_tree',\n",
              "                                                      'brute'],\n",
              "                                        'leaf_size': [10, 20, 30, 40],\n",
              "                                        'metric': ['euclidean', 'manhattan',\n",
              "                                                   'minkowski', 'chebyshev',\n",
              "                                                   'hamming', 'canberra',\n",
              "                                                   'braycurtis'],\n",
              "                                        'n_neighbors': [3, 5, 7, 9, 11, 13, 15],\n",
              "                                        'weights': ['uniform', 'distance']},\n",
              "                   scoring='f1')"
            ],
            "text/html": [
              "<style>#sk-container-id-1 {color: black;background-color: white;}#sk-container-id-1 pre{padding: 0;}#sk-container-id-1 div.sk-toggleable {background-color: white;}#sk-container-id-1 label.sk-toggleable__label {cursor: pointer;display: block;width: 100%;margin-bottom: 0;padding: 0.3em;box-sizing: border-box;text-align: center;}#sk-container-id-1 label.sk-toggleable__label-arrow:before {content: \"▸\";float: left;margin-right: 0.25em;color: #696969;}#sk-container-id-1 label.sk-toggleable__label-arrow:hover:before {color: black;}#sk-container-id-1 div.sk-estimator:hover label.sk-toggleable__label-arrow:before {color: black;}#sk-container-id-1 div.sk-toggleable__content {max-height: 0;max-width: 0;overflow: hidden;text-align: left;background-color: #f0f8ff;}#sk-container-id-1 div.sk-toggleable__content pre {margin: 0.2em;color: black;border-radius: 0.25em;background-color: #f0f8ff;}#sk-container-id-1 input.sk-toggleable__control:checked~div.sk-toggleable__content {max-height: 200px;max-width: 100%;overflow: auto;}#sk-container-id-1 input.sk-toggleable__control:checked~label.sk-toggleable__label-arrow:before {content: \"▾\";}#sk-container-id-1 div.sk-estimator input.sk-toggleable__control:checked~label.sk-toggleable__label {background-color: #d4ebff;}#sk-container-id-1 div.sk-label input.sk-toggleable__control:checked~label.sk-toggleable__label {background-color: #d4ebff;}#sk-container-id-1 input.sk-hidden--visually {border: 0;clip: rect(1px 1px 1px 1px);clip: rect(1px, 1px, 1px, 1px);height: 1px;margin: -1px;overflow: hidden;padding: 0;position: absolute;width: 1px;}#sk-container-id-1 div.sk-estimator {font-family: monospace;background-color: #f0f8ff;border: 1px dotted black;border-radius: 0.25em;box-sizing: border-box;margin-bottom: 0.5em;}#sk-container-id-1 div.sk-estimator:hover {background-color: #d4ebff;}#sk-container-id-1 div.sk-parallel-item::after {content: \"\";width: 100%;border-bottom: 1px solid gray;flex-grow: 1;}#sk-container-id-1 div.sk-label:hover label.sk-toggleable__label {background-color: #d4ebff;}#sk-container-id-1 div.sk-serial::before {content: \"\";position: absolute;border-left: 1px solid gray;box-sizing: border-box;top: 0;bottom: 0;left: 50%;z-index: 0;}#sk-container-id-1 div.sk-serial {display: flex;flex-direction: column;align-items: center;background-color: white;padding-right: 0.2em;padding-left: 0.2em;position: relative;}#sk-container-id-1 div.sk-item {position: relative;z-index: 1;}#sk-container-id-1 div.sk-parallel {display: flex;align-items: stretch;justify-content: center;background-color: white;position: relative;}#sk-container-id-1 div.sk-item::before, #sk-container-id-1 div.sk-parallel-item::before {content: \"\";position: absolute;border-left: 1px solid gray;box-sizing: border-box;top: 0;bottom: 0;left: 50%;z-index: -1;}#sk-container-id-1 div.sk-parallel-item {display: flex;flex-direction: column;z-index: 1;position: relative;background-color: white;}#sk-container-id-1 div.sk-parallel-item:first-child::after {align-self: flex-end;width: 50%;}#sk-container-id-1 div.sk-parallel-item:last-child::after {align-self: flex-start;width: 50%;}#sk-container-id-1 div.sk-parallel-item:only-child::after {width: 0;}#sk-container-id-1 div.sk-dashed-wrapped {border: 1px dashed gray;margin: 0 0.4em 0.5em 0.4em;box-sizing: border-box;padding-bottom: 0.4em;background-color: white;}#sk-container-id-1 div.sk-label label {font-family: monospace;font-weight: bold;display: inline-block;line-height: 1.2em;}#sk-container-id-1 div.sk-label-container {text-align: center;}#sk-container-id-1 div.sk-container {/* jupyter's `normalize.less` sets `[hidden] { display: none; }` but bootstrap.min.css set `[hidden] { display: none !important; }` so we also need the `!important` here to be able to override the default hidden behavior on the sphinx rendered scikit-learn.org. See: https://github.com/scikit-learn/scikit-learn/issues/21755 */display: inline-block !important;position: relative;}#sk-container-id-1 div.sk-text-repr-fallback {display: none;}</style><div id=\"sk-container-id-1\" class=\"sk-top-container\"><div class=\"sk-text-repr-fallback\"><pre>RandomizedSearchCV(estimator=KNeighborsClassifier(), n_jobs=-1,\n",
              "                   param_distributions={&#x27;algorithm&#x27;: [&#x27;ball_tree&#x27;, &#x27;kd_tree&#x27;,\n",
              "                                                      &#x27;brute&#x27;],\n",
              "                                        &#x27;leaf_size&#x27;: [10, 20, 30, 40],\n",
              "                                        &#x27;metric&#x27;: [&#x27;euclidean&#x27;, &#x27;manhattan&#x27;,\n",
              "                                                   &#x27;minkowski&#x27;, &#x27;chebyshev&#x27;,\n",
              "                                                   &#x27;hamming&#x27;, &#x27;canberra&#x27;,\n",
              "                                                   &#x27;braycurtis&#x27;],\n",
              "                                        &#x27;n_neighbors&#x27;: [3, 5, 7, 9, 11, 13, 15],\n",
              "                                        &#x27;weights&#x27;: [&#x27;uniform&#x27;, &#x27;distance&#x27;]},\n",
              "                   scoring=&#x27;f1&#x27;)</pre><b>In a Jupyter environment, please rerun this cell to show the HTML representation or trust the notebook. <br />On GitHub, the HTML representation is unable to render, please try loading this page with nbviewer.org.</b></div><div class=\"sk-container\" hidden><div class=\"sk-item sk-dashed-wrapped\"><div class=\"sk-label-container\"><div class=\"sk-label sk-toggleable\"><input class=\"sk-toggleable__control sk-hidden--visually\" id=\"sk-estimator-id-1\" type=\"checkbox\" ><label for=\"sk-estimator-id-1\" class=\"sk-toggleable__label sk-toggleable__label-arrow\">RandomizedSearchCV</label><div class=\"sk-toggleable__content\"><pre>RandomizedSearchCV(estimator=KNeighborsClassifier(), n_jobs=-1,\n",
              "                   param_distributions={&#x27;algorithm&#x27;: [&#x27;ball_tree&#x27;, &#x27;kd_tree&#x27;,\n",
              "                                                      &#x27;brute&#x27;],\n",
              "                                        &#x27;leaf_size&#x27;: [10, 20, 30, 40],\n",
              "                                        &#x27;metric&#x27;: [&#x27;euclidean&#x27;, &#x27;manhattan&#x27;,\n",
              "                                                   &#x27;minkowski&#x27;, &#x27;chebyshev&#x27;,\n",
              "                                                   &#x27;hamming&#x27;, &#x27;canberra&#x27;,\n",
              "                                                   &#x27;braycurtis&#x27;],\n",
              "                                        &#x27;n_neighbors&#x27;: [3, 5, 7, 9, 11, 13, 15],\n",
              "                                        &#x27;weights&#x27;: [&#x27;uniform&#x27;, &#x27;distance&#x27;]},\n",
              "                   scoring=&#x27;f1&#x27;)</pre></div></div></div><div class=\"sk-parallel\"><div class=\"sk-parallel-item\"><div class=\"sk-item\"><div class=\"sk-label-container\"><div class=\"sk-label sk-toggleable\"><input class=\"sk-toggleable__control sk-hidden--visually\" id=\"sk-estimator-id-2\" type=\"checkbox\" ><label for=\"sk-estimator-id-2\" class=\"sk-toggleable__label sk-toggleable__label-arrow\">estimator: KNeighborsClassifier</label><div class=\"sk-toggleable__content\"><pre>KNeighborsClassifier()</pre></div></div></div><div class=\"sk-serial\"><div class=\"sk-item\"><div class=\"sk-estimator sk-toggleable\"><input class=\"sk-toggleable__control sk-hidden--visually\" id=\"sk-estimator-id-3\" type=\"checkbox\" ><label for=\"sk-estimator-id-3\" class=\"sk-toggleable__label sk-toggleable__label-arrow\">KNeighborsClassifier</label><div class=\"sk-toggleable__content\"><pre>KNeighborsClassifier()</pre></div></div></div></div></div></div></div></div></div></div>"
            ]
          },
          "metadata": {},
          "execution_count": 12
        }
      ],
      "source": [
        "grid_knn = RandomizedSearchCV(\n",
        "    KNeighborsClassifier(),\n",
        "    parameters,\n",
        "    scoring='f1',\n",
        "    n_jobs = -1\n",
        ")\n",
        "grid_knn.fit(X_train, y_train)"
      ]
    },
    {
      "cell_type": "markdown",
      "metadata": {
        "id": "9PXFFWC4c-pV"
      },
      "source": [
        "### Оценка модели"
      ]
    },
    {
      "cell_type": "code",
      "execution_count": null,
      "metadata": {
        "id": "kq88wnPrR70q",
        "colab": {
          "base_uri": "https://localhost:8080/"
        },
        "outputId": "91ee0a49-efc8-4f70-9575-d55f99bb5926"
      },
      "outputs": [
        {
          "output_type": "stream",
          "name": "stdout",
          "text": [
            "Лучшие параметры:\n",
            "{'weights': 'distance', 'n_neighbors': 5, 'metric': 'manhattan', 'leaf_size': 10, 'algorithm': 'brute'}\n",
            "\n",
            "Показатель f1 для лучшей модели составил: 55.96%\n",
            "\n",
            "Сравнение метрик: \n",
            "              precision    recall  f1-score   support\n",
            "\n",
            "           0       0.87      0.94      0.90     20110\n",
            "           1       0.68      0.49      0.57      5398\n",
            "\n",
            "    accuracy                           0.84     25508\n",
            "   macro avg       0.78      0.72      0.74     25508\n",
            "weighted avg       0.83      0.84      0.83     25508\n",
            "\n",
            "\n",
            "Матрица ошибок: \n",
            "[[18884  1226]\n",
            " [ 2740  2658]]\n",
            "\n"
          ]
        }
      ],
      "source": [
        "print(f'Лучшие параметры:\\n{grid_knn.best_params_}\\n')\n",
        "print(\"Показатель f1 для лучшей модели составил: {:.2f}%\".\n",
        "      format(grid_knn.best_score_ * 100) + '\\n')\n",
        "\n",
        "grid_knn_pred = grid_knn.predict(X_test)\n",
        "\n",
        "print(f'Сравнение метрик: \\n{classification_report(y_test, grid_knn_pred)}\\n')\n",
        "print(f'Матрица ошибок: \\n{confusion_matrix(y_test, grid_knn_pred)}\\n')"
      ]
    },
    {
      "cell_type": "markdown",
      "metadata": {
        "id": "H6BoXEx3htxr"
      },
      "source": [
        "## Метод машин опорных векторов"
      ]
    },
    {
      "cell_type": "markdown",
      "source": [
        "###Подключение модулей"
      ],
      "metadata": {
        "id": "bfwdJnIeYPtV"
      }
    },
    {
      "cell_type": "code",
      "source": [
        "from sklearn.svm import SVC\n",
        "\n",
        "from sklearn.svm import LinearSVC\n",
        "\n",
        "from sklearn.linear_model import SGDClassifier"
      ],
      "metadata": {
        "id": "tYZI4sJZYMCG"
      },
      "execution_count": null,
      "outputs": []
    },
    {
      "cell_type": "markdown",
      "source": [
        "###Подбор параметров и обучение модели"
      ],
      "metadata": {
        "id": "OJaBlWpTYXuE"
      }
    },
    {
      "cell_type": "code",
      "source": [
        "from sklearn.linear_model import SGDClassifier\n",
        "from sklearn.model_selection import RandomizedSearchCV\n",
        "\n",
        "# Задаем параметры для подбора\n",
        "parameters = {\n",
        "    'penalty': ['none', 'l2', 'l1', 'elasticnet'],\n",
        "    'alpha': [0.001, 0.01, 0.1, 1],\n",
        "    'learning_rate': ['constant', 'optimal', 'invscaling', 'adaptive'],\n",
        "    'eta0': [0.01, 0.1, 0.2, 0.5],\n",
        "    'fit_intercept': [True, False],\n",
        "    'tol': [1e-3, 1e-4, 1e-5],\n",
        "    'loss': ['hinge', 'log', 'modified_huber', 'squared_hinge', 'perceptron'],\n",
        "    'l1_ratio': [0.0, 0.25, 0.5, 0.75, 1.0],\n",
        "    'average': [True, False]\n",
        "}\n",
        "\n",
        "# Создаем классификатор SGD\n",
        "sgd_classifier = SGDClassifier(class_weight='balanced')\n",
        "\n",
        "# Создаем объект для подбора параметров\n",
        "grid_svm_sgdc = RandomizedSearchCV(\n",
        "    sgd_classifier, # используем классификатор SGD\n",
        "    parameters,     # заданные параметры для подбора\n",
        "    scoring='f1',   # оценочная метрика\n",
        "    n_jobs=-1       # количество параллельных задач\n",
        ")\n",
        "\n",
        "# Обучаем модель с подобранными параметрами\n",
        "grid_svm_sgdc.fit(X_train, y_train)\n",
        "\n",
        "# Выводим лучшие параметры\n",
        "print(\"Best parameters:\", grid_svm_sgdc.best_params_)"
      ],
      "metadata": {
        "colab": {
          "base_uri": "https://localhost:8080/"
        },
        "id": "xYDLWK9b1EPt",
        "outputId": "49c95bc4-3241-4690-929d-3a23b4b4f78a"
      },
      "execution_count": null,
      "outputs": [
        {
          "output_type": "stream",
          "name": "stderr",
          "text": [
            "/usr/local/lib/python3.10/dist-packages/sklearn/model_selection/_validation.py:378: FitFailedWarning: \n",
            "5 fits failed out of a total of 50.\n",
            "The score on these train-test partitions for these parameters will be set to nan.\n",
            "If these failures are not expected, you can try to debug them by setting error_score='raise'.\n",
            "\n",
            "Below are more details about the failures:\n",
            "--------------------------------------------------------------------------------\n",
            "5 fits failed with the following error:\n",
            "Traceback (most recent call last):\n",
            "  File \"/usr/local/lib/python3.10/dist-packages/sklearn/model_selection/_validation.py\", line 686, in _fit_and_score\n",
            "    estimator.fit(X_train, y_train, **fit_params)\n",
            "  File \"/usr/local/lib/python3.10/dist-packages/sklearn/linear_model/_stochastic_gradient.py\", line 891, in fit\n",
            "    self._validate_params()\n",
            "  File \"/usr/local/lib/python3.10/dist-packages/sklearn/base.py\", line 600, in _validate_params\n",
            "    validate_parameter_constraints(\n",
            "  File \"/usr/local/lib/python3.10/dist-packages/sklearn/utils/_param_validation.py\", line 97, in validate_parameter_constraints\n",
            "    raise InvalidParameterError(\n",
            "sklearn.utils._param_validation.InvalidParameterError: The 'penalty' parameter of SGDClassifier must be a str among {'l1', 'l2', 'elasticnet'} or None. Got 'none' instead.\n",
            "\n",
            "  warnings.warn(some_fits_failed_message, FitFailedWarning)\n",
            "/usr/local/lib/python3.10/dist-packages/sklearn/model_selection/_search.py:952: UserWarning: One or more of the test scores are non-finite: [0.         0.54613697 0.51792189        nan 0.15874832 0.57143161\n",
            " 0.54854706 0.53691946 0.57007517 0.53620514]\n",
            "  warnings.warn(\n"
          ]
        },
        {
          "output_type": "stream",
          "name": "stdout",
          "text": [
            "Best parameters: {'tol': 0.0001, 'penalty': 'l2', 'loss': 'hinge', 'learning_rate': 'optimal', 'l1_ratio': 0.25, 'fit_intercept': False, 'eta0': 0.2, 'average': True, 'alpha': 0.001}\n"
          ]
        }
      ]
    },
    {
      "cell_type": "code",
      "source": [
        "# результаты кросс-валидации\n",
        "print(f'Лучшие параметры:\\n{grid_svm_sgdc.best_params_}\\n')\n",
        "print(\"Показатель f1 для лучшей модели составил: {:.2f}%\".\n",
        "      format(grid_svm_sgdc.best_score_ * 100) + '\\n')\n",
        "\n",
        "# предсказываем результат на тестовой выборке\n",
        "grid_svm_sgdc_pred = grid_svm_sgdc.predict(X_test)\n",
        "\n",
        "# оцениваем модель\n",
        "print(f'Сравнение метрик: \\n{classification_report(y_test, grid_svm_sgdc_pred)}\\n')\n",
        "print(f'Матрица ошибок: \\n{confusion_matrix(y_test, grid_svm_sgdc_pred)}\\n')"
      ],
      "metadata": {
        "colab": {
          "base_uri": "https://localhost:8080/"
        },
        "id": "FegGR_-t1bIy",
        "outputId": "4e6801d9-48cb-4db0-913e-ad0401a49fe6"
      },
      "execution_count": null,
      "outputs": [
        {
          "output_type": "stream",
          "name": "stdout",
          "text": [
            "Лучшие параметры:\n",
            "{'tol': 0.0001, 'penalty': 'l2', 'loss': 'hinge', 'learning_rate': 'optimal', 'l1_ratio': 0.25, 'fit_intercept': False, 'eta0': 0.2, 'average': True, 'alpha': 0.001}\n",
            "\n",
            "Показатель f1 для лучшей модели составил: 57.14%\n",
            "\n",
            "Сравнение метрик: \n",
            "              precision    recall  f1-score   support\n",
            "\n",
            "           0       0.94      0.69      0.80     20110\n",
            "           1       0.42      0.84      0.56      5398\n",
            "\n",
            "    accuracy                           0.72     25508\n",
            "   macro avg       0.68      0.76      0.68     25508\n",
            "weighted avg       0.83      0.72      0.75     25508\n",
            "\n",
            "\n",
            "Матрица ошибок: \n",
            "[[13916  6194]\n",
            " [  884  4514]]\n",
            "\n"
          ]
        }
      ]
    },
    {
      "cell_type": "markdown",
      "metadata": {
        "id": "F1jpANLrP_Fy"
      },
      "source": [
        "## Линейная и логистическая регрессия\n"
      ]
    },
    {
      "cell_type": "markdown",
      "metadata": {
        "id": "wS4z_UYZQV6W"
      },
      "source": [
        "### Линейная регрессия"
      ]
    },
    {
      "cell_type": "code",
      "source": [
        "from sklearn.linear_model import LinearRegression\n",
        "\n",
        "from sklearn.linear_model import ElasticNet\n",
        "\n",
        "from sklearn.linear_model import Lasso\n",
        "\n",
        "from sklearn.linear_model import Ridge\n",
        "\n",
        "from sklearn.linear_model import SGDRegressor\n",
        "\n",
        "from sklearn.linear_model import LogisticRegression"
      ],
      "metadata": {
        "id": "Xe0k4uvBZ-tw"
      },
      "execution_count": null,
      "outputs": []
    },
    {
      "cell_type": "code",
      "source": [
        "%%time\n",
        "\n",
        "# создаем модель\n",
        "regression_linear = LinearRegression()\n",
        "\n",
        "# подаем на вход модели обучающие данные\n",
        "regression_linear.fit(X_train, y_train)"
      ],
      "metadata": {
        "colab": {
          "base_uri": "https://localhost:8080/",
          "height": 112
        },
        "id": "fmhmv65R1omS",
        "outputId": "74a03cd4-d6ac-48e3-c5eb-9b8c5916f44b"
      },
      "execution_count": null,
      "outputs": [
        {
          "output_type": "stream",
          "name": "stdout",
          "text": [
            "CPU times: user 209 ms, sys: 0 ns, total: 209 ms\n",
            "Wall time: 208 ms\n"
          ]
        },
        {
          "output_type": "execute_result",
          "data": {
            "text/plain": [
              "LinearRegression()"
            ],
            "text/html": [
              "<style>#sk-container-id-3 {color: black;background-color: white;}#sk-container-id-3 pre{padding: 0;}#sk-container-id-3 div.sk-toggleable {background-color: white;}#sk-container-id-3 label.sk-toggleable__label {cursor: pointer;display: block;width: 100%;margin-bottom: 0;padding: 0.3em;box-sizing: border-box;text-align: center;}#sk-container-id-3 label.sk-toggleable__label-arrow:before {content: \"▸\";float: left;margin-right: 0.25em;color: #696969;}#sk-container-id-3 label.sk-toggleable__label-arrow:hover:before {color: black;}#sk-container-id-3 div.sk-estimator:hover label.sk-toggleable__label-arrow:before {color: black;}#sk-container-id-3 div.sk-toggleable__content {max-height: 0;max-width: 0;overflow: hidden;text-align: left;background-color: #f0f8ff;}#sk-container-id-3 div.sk-toggleable__content pre {margin: 0.2em;color: black;border-radius: 0.25em;background-color: #f0f8ff;}#sk-container-id-3 input.sk-toggleable__control:checked~div.sk-toggleable__content {max-height: 200px;max-width: 100%;overflow: auto;}#sk-container-id-3 input.sk-toggleable__control:checked~label.sk-toggleable__label-arrow:before {content: \"▾\";}#sk-container-id-3 div.sk-estimator input.sk-toggleable__control:checked~label.sk-toggleable__label {background-color: #d4ebff;}#sk-container-id-3 div.sk-label input.sk-toggleable__control:checked~label.sk-toggleable__label {background-color: #d4ebff;}#sk-container-id-3 input.sk-hidden--visually {border: 0;clip: rect(1px 1px 1px 1px);clip: rect(1px, 1px, 1px, 1px);height: 1px;margin: -1px;overflow: hidden;padding: 0;position: absolute;width: 1px;}#sk-container-id-3 div.sk-estimator {font-family: monospace;background-color: #f0f8ff;border: 1px dotted black;border-radius: 0.25em;box-sizing: border-box;margin-bottom: 0.5em;}#sk-container-id-3 div.sk-estimator:hover {background-color: #d4ebff;}#sk-container-id-3 div.sk-parallel-item::after {content: \"\";width: 100%;border-bottom: 1px solid gray;flex-grow: 1;}#sk-container-id-3 div.sk-label:hover label.sk-toggleable__label {background-color: #d4ebff;}#sk-container-id-3 div.sk-serial::before {content: \"\";position: absolute;border-left: 1px solid gray;box-sizing: border-box;top: 0;bottom: 0;left: 50%;z-index: 0;}#sk-container-id-3 div.sk-serial {display: flex;flex-direction: column;align-items: center;background-color: white;padding-right: 0.2em;padding-left: 0.2em;position: relative;}#sk-container-id-3 div.sk-item {position: relative;z-index: 1;}#sk-container-id-3 div.sk-parallel {display: flex;align-items: stretch;justify-content: center;background-color: white;position: relative;}#sk-container-id-3 div.sk-item::before, #sk-container-id-3 div.sk-parallel-item::before {content: \"\";position: absolute;border-left: 1px solid gray;box-sizing: border-box;top: 0;bottom: 0;left: 50%;z-index: -1;}#sk-container-id-3 div.sk-parallel-item {display: flex;flex-direction: column;z-index: 1;position: relative;background-color: white;}#sk-container-id-3 div.sk-parallel-item:first-child::after {align-self: flex-end;width: 50%;}#sk-container-id-3 div.sk-parallel-item:last-child::after {align-self: flex-start;width: 50%;}#sk-container-id-3 div.sk-parallel-item:only-child::after {width: 0;}#sk-container-id-3 div.sk-dashed-wrapped {border: 1px dashed gray;margin: 0 0.4em 0.5em 0.4em;box-sizing: border-box;padding-bottom: 0.4em;background-color: white;}#sk-container-id-3 div.sk-label label {font-family: monospace;font-weight: bold;display: inline-block;line-height: 1.2em;}#sk-container-id-3 div.sk-label-container {text-align: center;}#sk-container-id-3 div.sk-container {/* jupyter's `normalize.less` sets `[hidden] { display: none; }` but bootstrap.min.css set `[hidden] { display: none !important; }` so we also need the `!important` here to be able to override the default hidden behavior on the sphinx rendered scikit-learn.org. See: https://github.com/scikit-learn/scikit-learn/issues/21755 */display: inline-block !important;position: relative;}#sk-container-id-3 div.sk-text-repr-fallback {display: none;}</style><div id=\"sk-container-id-3\" class=\"sk-top-container\"><div class=\"sk-text-repr-fallback\"><pre>LinearRegression()</pre><b>In a Jupyter environment, please rerun this cell to show the HTML representation or trust the notebook. <br />On GitHub, the HTML representation is unable to render, please try loading this page with nbviewer.org.</b></div><div class=\"sk-container\" hidden><div class=\"sk-item\"><div class=\"sk-estimator sk-toggleable\"><input class=\"sk-toggleable__control sk-hidden--visually\" id=\"sk-estimator-id-7\" type=\"checkbox\" checked><label for=\"sk-estimator-id-7\" class=\"sk-toggleable__label sk-toggleable__label-arrow\">LinearRegression</label><div class=\"sk-toggleable__content\"><pre>LinearRegression()</pre></div></div></div></div></div>"
            ]
          },
          "metadata": {},
          "execution_count": 20
        }
      ]
    },
    {
      "cell_type": "code",
      "execution_count": null,
      "metadata": {
        "colab": {
          "base_uri": "https://localhost:8080/"
        },
        "id": "m2jPgMr4QZgF",
        "outputId": "9adc551a-2103-4a92-f3d7-4961920b3919"
      },
      "outputs": [
        {
          "output_type": "stream",
          "name": "stdout",
          "text": [
            "MAE: 0.25814\n",
            "MSE: 0.11657\n",
            "RMSE: 0.34143\n",
            "CPU times: user 12.4 ms, sys: 0 ns, total: 12.4 ms\n",
            "Wall time: 11.4 ms\n"
          ]
        }
      ],
      "source": [
        "%%time\n",
        "regression_linear_pred = regression_linear.predict(X_test)\n",
        "\n",
        "# заводим\n",
        "mae = mean_absolute_error(y_test, regression_linear_pred)\n",
        "mse = mean_squared_error(y_test, regression_linear_pred)\n",
        "\n",
        "# оцениваем модель\n",
        "print(f'MAE: {mae:.5f}')\n",
        "print(f'MSE: {mse:.5f}')\n",
        "print(f'RMSE: {np.sqrt(mse):.5f}')"
      ]
    },
    {
      "cell_type": "markdown",
      "metadata": {
        "id": "BZcAWmxdQtNO"
      },
      "source": [
        "### Логистическая регрессия"
      ]
    },
    {
      "cell_type": "code",
      "execution_count": null,
      "metadata": {
        "colab": {
          "base_uri": "https://localhost:8080/",
          "height": 949
        },
        "id": "9AwmUMxpQpIB",
        "outputId": "ba9d8149-c597-4361-dc11-d6261ec8175c"
      },
      "outputs": [
        {
          "output_type": "stream",
          "name": "stderr",
          "text": [
            "/usr/local/lib/python3.10/dist-packages/sklearn/model_selection/_validation.py:378: FitFailedWarning: \n",
            "30 fits failed out of a total of 50.\n",
            "The score on these train-test partitions for these parameters will be set to nan.\n",
            "If these failures are not expected, you can try to debug them by setting error_score='raise'.\n",
            "\n",
            "Below are more details about the failures:\n",
            "--------------------------------------------------------------------------------\n",
            "15 fits failed with the following error:\n",
            "Traceback (most recent call last):\n",
            "  File \"/usr/local/lib/python3.10/dist-packages/sklearn/model_selection/_validation.py\", line 686, in _fit_and_score\n",
            "    estimator.fit(X_train, y_train, **fit_params)\n",
            "  File \"/usr/local/lib/python3.10/dist-packages/sklearn/linear_model/_logistic.py\", line 1162, in fit\n",
            "    solver = _check_solver(self.solver, self.penalty, self.dual)\n",
            "  File \"/usr/local/lib/python3.10/dist-packages/sklearn/linear_model/_logistic.py\", line 54, in _check_solver\n",
            "    raise ValueError(\n",
            "ValueError: Solver newton-cg supports only 'l2' or 'none' penalties, got l1 penalty.\n",
            "\n",
            "--------------------------------------------------------------------------------\n",
            "5 fits failed with the following error:\n",
            "Traceback (most recent call last):\n",
            "  File \"/usr/local/lib/python3.10/dist-packages/sklearn/model_selection/_validation.py\", line 686, in _fit_and_score\n",
            "    estimator.fit(X_train, y_train, **fit_params)\n",
            "  File \"/usr/local/lib/python3.10/dist-packages/sklearn/linear_model/_logistic.py\", line 1162, in fit\n",
            "    solver = _check_solver(self.solver, self.penalty, self.dual)\n",
            "  File \"/usr/local/lib/python3.10/dist-packages/sklearn/linear_model/_logistic.py\", line 54, in _check_solver\n",
            "    raise ValueError(\n",
            "ValueError: Solver sag supports only 'l2' or 'none' penalties, got l1 penalty.\n",
            "\n",
            "--------------------------------------------------------------------------------\n",
            "10 fits failed with the following error:\n",
            "Traceback (most recent call last):\n",
            "  File \"/usr/local/lib/python3.10/dist-packages/sklearn/model_selection/_validation.py\", line 686, in _fit_and_score\n",
            "    estimator.fit(X_train, y_train, **fit_params)\n",
            "  File \"/usr/local/lib/python3.10/dist-packages/sklearn/linear_model/_logistic.py\", line 1162, in fit\n",
            "    solver = _check_solver(self.solver, self.penalty, self.dual)\n",
            "  File \"/usr/local/lib/python3.10/dist-packages/sklearn/linear_model/_logistic.py\", line 54, in _check_solver\n",
            "    raise ValueError(\n",
            "ValueError: Solver lbfgs supports only 'l2' or 'none' penalties, got l1 penalty.\n",
            "\n",
            "  warnings.warn(some_fits_failed_message, FitFailedWarning)\n",
            "/usr/local/lib/python3.10/dist-packages/sklearn/model_selection/_search.py:952: UserWarning: One or more of the test scores are non-finite: [       nan        nan 0.56357274 0.56275987        nan        nan\n",
            "        nan        nan 0.56354106 0.56354106]\n",
            "  warnings.warn(\n"
          ]
        },
        {
          "output_type": "stream",
          "name": "stdout",
          "text": [
            "CPU times: user 2.5 s, sys: 810 ms, total: 3.31 s\n",
            "Wall time: 22.2 s\n"
          ]
        },
        {
          "output_type": "execute_result",
          "data": {
            "text/plain": [
              "RandomizedSearchCV(estimator=LogisticRegression(), n_jobs=-1,\n",
              "                   param_distributions={'C': [0.001, 0.01, 0.1, 1, 10],\n",
              "                                        'penalty': ['l1', 'l2'],\n",
              "                                        'solver': ['newton-cg', 'lbfgs',\n",
              "                                                   'liblinear', 'sag',\n",
              "                                                   'saga']},\n",
              "                   scoring='f1')"
            ],
            "text/html": [
              "<style>#sk-container-id-4 {color: black;background-color: white;}#sk-container-id-4 pre{padding: 0;}#sk-container-id-4 div.sk-toggleable {background-color: white;}#sk-container-id-4 label.sk-toggleable__label {cursor: pointer;display: block;width: 100%;margin-bottom: 0;padding: 0.3em;box-sizing: border-box;text-align: center;}#sk-container-id-4 label.sk-toggleable__label-arrow:before {content: \"▸\";float: left;margin-right: 0.25em;color: #696969;}#sk-container-id-4 label.sk-toggleable__label-arrow:hover:before {color: black;}#sk-container-id-4 div.sk-estimator:hover label.sk-toggleable__label-arrow:before {color: black;}#sk-container-id-4 div.sk-toggleable__content {max-height: 0;max-width: 0;overflow: hidden;text-align: left;background-color: #f0f8ff;}#sk-container-id-4 div.sk-toggleable__content pre {margin: 0.2em;color: black;border-radius: 0.25em;background-color: #f0f8ff;}#sk-container-id-4 input.sk-toggleable__control:checked~div.sk-toggleable__content {max-height: 200px;max-width: 100%;overflow: auto;}#sk-container-id-4 input.sk-toggleable__control:checked~label.sk-toggleable__label-arrow:before {content: \"▾\";}#sk-container-id-4 div.sk-estimator input.sk-toggleable__control:checked~label.sk-toggleable__label {background-color: #d4ebff;}#sk-container-id-4 div.sk-label input.sk-toggleable__control:checked~label.sk-toggleable__label {background-color: #d4ebff;}#sk-container-id-4 input.sk-hidden--visually {border: 0;clip: rect(1px 1px 1px 1px);clip: rect(1px, 1px, 1px, 1px);height: 1px;margin: -1px;overflow: hidden;padding: 0;position: absolute;width: 1px;}#sk-container-id-4 div.sk-estimator {font-family: monospace;background-color: #f0f8ff;border: 1px dotted black;border-radius: 0.25em;box-sizing: border-box;margin-bottom: 0.5em;}#sk-container-id-4 div.sk-estimator:hover {background-color: #d4ebff;}#sk-container-id-4 div.sk-parallel-item::after {content: \"\";width: 100%;border-bottom: 1px solid gray;flex-grow: 1;}#sk-container-id-4 div.sk-label:hover label.sk-toggleable__label {background-color: #d4ebff;}#sk-container-id-4 div.sk-serial::before {content: \"\";position: absolute;border-left: 1px solid gray;box-sizing: border-box;top: 0;bottom: 0;left: 50%;z-index: 0;}#sk-container-id-4 div.sk-serial {display: flex;flex-direction: column;align-items: center;background-color: white;padding-right: 0.2em;padding-left: 0.2em;position: relative;}#sk-container-id-4 div.sk-item {position: relative;z-index: 1;}#sk-container-id-4 div.sk-parallel {display: flex;align-items: stretch;justify-content: center;background-color: white;position: relative;}#sk-container-id-4 div.sk-item::before, #sk-container-id-4 div.sk-parallel-item::before {content: \"\";position: absolute;border-left: 1px solid gray;box-sizing: border-box;top: 0;bottom: 0;left: 50%;z-index: -1;}#sk-container-id-4 div.sk-parallel-item {display: flex;flex-direction: column;z-index: 1;position: relative;background-color: white;}#sk-container-id-4 div.sk-parallel-item:first-child::after {align-self: flex-end;width: 50%;}#sk-container-id-4 div.sk-parallel-item:last-child::after {align-self: flex-start;width: 50%;}#sk-container-id-4 div.sk-parallel-item:only-child::after {width: 0;}#sk-container-id-4 div.sk-dashed-wrapped {border: 1px dashed gray;margin: 0 0.4em 0.5em 0.4em;box-sizing: border-box;padding-bottom: 0.4em;background-color: white;}#sk-container-id-4 div.sk-label label {font-family: monospace;font-weight: bold;display: inline-block;line-height: 1.2em;}#sk-container-id-4 div.sk-label-container {text-align: center;}#sk-container-id-4 div.sk-container {/* jupyter's `normalize.less` sets `[hidden] { display: none; }` but bootstrap.min.css set `[hidden] { display: none !important; }` so we also need the `!important` here to be able to override the default hidden behavior on the sphinx rendered scikit-learn.org. See: https://github.com/scikit-learn/scikit-learn/issues/21755 */display: inline-block !important;position: relative;}#sk-container-id-4 div.sk-text-repr-fallback {display: none;}</style><div id=\"sk-container-id-4\" class=\"sk-top-container\"><div class=\"sk-text-repr-fallback\"><pre>RandomizedSearchCV(estimator=LogisticRegression(), n_jobs=-1,\n",
              "                   param_distributions={&#x27;C&#x27;: [0.001, 0.01, 0.1, 1, 10],\n",
              "                                        &#x27;penalty&#x27;: [&#x27;l1&#x27;, &#x27;l2&#x27;],\n",
              "                                        &#x27;solver&#x27;: [&#x27;newton-cg&#x27;, &#x27;lbfgs&#x27;,\n",
              "                                                   &#x27;liblinear&#x27;, &#x27;sag&#x27;,\n",
              "                                                   &#x27;saga&#x27;]},\n",
              "                   scoring=&#x27;f1&#x27;)</pre><b>In a Jupyter environment, please rerun this cell to show the HTML representation or trust the notebook. <br />On GitHub, the HTML representation is unable to render, please try loading this page with nbviewer.org.</b></div><div class=\"sk-container\" hidden><div class=\"sk-item sk-dashed-wrapped\"><div class=\"sk-label-container\"><div class=\"sk-label sk-toggleable\"><input class=\"sk-toggleable__control sk-hidden--visually\" id=\"sk-estimator-id-8\" type=\"checkbox\" ><label for=\"sk-estimator-id-8\" class=\"sk-toggleable__label sk-toggleable__label-arrow\">RandomizedSearchCV</label><div class=\"sk-toggleable__content\"><pre>RandomizedSearchCV(estimator=LogisticRegression(), n_jobs=-1,\n",
              "                   param_distributions={&#x27;C&#x27;: [0.001, 0.01, 0.1, 1, 10],\n",
              "                                        &#x27;penalty&#x27;: [&#x27;l1&#x27;, &#x27;l2&#x27;],\n",
              "                                        &#x27;solver&#x27;: [&#x27;newton-cg&#x27;, &#x27;lbfgs&#x27;,\n",
              "                                                   &#x27;liblinear&#x27;, &#x27;sag&#x27;,\n",
              "                                                   &#x27;saga&#x27;]},\n",
              "                   scoring=&#x27;f1&#x27;)</pre></div></div></div><div class=\"sk-parallel\"><div class=\"sk-parallel-item\"><div class=\"sk-item\"><div class=\"sk-label-container\"><div class=\"sk-label sk-toggleable\"><input class=\"sk-toggleable__control sk-hidden--visually\" id=\"sk-estimator-id-9\" type=\"checkbox\" ><label for=\"sk-estimator-id-9\" class=\"sk-toggleable__label sk-toggleable__label-arrow\">estimator: LogisticRegression</label><div class=\"sk-toggleable__content\"><pre>LogisticRegression()</pre></div></div></div><div class=\"sk-serial\"><div class=\"sk-item\"><div class=\"sk-estimator sk-toggleable\"><input class=\"sk-toggleable__control sk-hidden--visually\" id=\"sk-estimator-id-10\" type=\"checkbox\" ><label for=\"sk-estimator-id-10\" class=\"sk-toggleable__label sk-toggleable__label-arrow\">LogisticRegression</label><div class=\"sk-toggleable__content\"><pre>LogisticRegression()</pre></div></div></div></div></div></div></div></div></div></div>"
            ]
          },
          "metadata": {},
          "execution_count": 22
        }
      ],
      "source": [
        "%%time\n",
        "\n",
        "# задаем диапазон параметров\n",
        "parameters = {\n",
        "    'penalty': ['l1', 'l2'], # тип регуляризации\n",
        "    'C': [0.001, 0.01, 0.1, 1, 10], # инверсное значение коэффициента регуляризации\n",
        "    #'fit_intercept': [True, False], # следует ли добавлять константный член в линейную модель\n",
        "    'solver': ['newton-cg', 'lbfgs', 'liblinear', 'sag', 'saga'], # алгоритм оптимизации\n",
        "    #'tol': [1e-4, 1e-3], # пороговое значение для оптимизации\n",
        "    #'class_weight': [None, 'balanced'] # веса классов\n",
        "}\n",
        "\n",
        "# подбираем лучшие параметры\n",
        "grid_regression_logistic = RandomizedSearchCV(\n",
        "    LogisticRegression(),\n",
        "    parameters,\n",
        "    scoring='f1',\n",
        "    n_jobs = -1\n",
        ")\n",
        "# обучаем модель\n",
        "grid_regression_logistic.fit(X_train, y_train)"
      ]
    },
    {
      "cell_type": "markdown",
      "metadata": {
        "id": "yotLdhR1Q5E7"
      },
      "source": [
        "### Оценка модели"
      ]
    },
    {
      "cell_type": "code",
      "execution_count": null,
      "metadata": {
        "id": "DZ7ruyFMQ15-",
        "colab": {
          "base_uri": "https://localhost:8080/"
        },
        "outputId": "e0172ffc-418f-421c-aef1-f7a862a55861"
      },
      "outputs": [
        {
          "output_type": "stream",
          "name": "stdout",
          "text": [
            "Лучшие параметры:\n",
            "{'solver': 'newton-cg', 'penalty': 'l2', 'C': 10}\n",
            "\n",
            "Показатель f1 для лучшей модели составил: 56.36%\n",
            "\n",
            "Сравнение метрик: \n",
            "              precision    recall  f1-score   support\n",
            "\n",
            "           0       0.87      0.94      0.91     20110\n",
            "           1       0.69      0.47      0.56      5398\n",
            "\n",
            "    accuracy                           0.84     25508\n",
            "   macro avg       0.78      0.71      0.73     25508\n",
            "weighted avg       0.83      0.84      0.83     25508\n",
            "\n",
            "\n",
            "Матрица ошибок: \n",
            "[[18990  1120]\n",
            " [ 2848  2550]]\n",
            "\n"
          ]
        }
      ],
      "source": [
        "print(f'Лучшие параметры:\\n{grid_regression_logistic.best_params_}\\n')\n",
        "print(\"Показатель f1 для лучшей модели составил: {:.2f}%\".\n",
        "      format(grid_regression_logistic.best_score_ * 100) + '\\n')\n",
        "\n",
        "grid_regression_logistic_pred = grid_regression_logistic.predict(X_test)\n",
        "\n",
        "print(f'Сравнение метрик: \\n{classification_report(y_test, grid_regression_logistic_pred)}\\n')\n",
        "print(f'Матрица ошибок: \\n{confusion_matrix(y_test, grid_regression_logistic_pred)}\\n')"
      ]
    },
    {
      "cell_type": "markdown",
      "metadata": {
        "id": "4cC0XqIbFArZ"
      },
      "source": [
        "## Метод наивного Байеса"
      ]
    },
    {
      "cell_type": "markdown",
      "metadata": {
        "id": "K439mM1mbqaF"
      },
      "source": [
        "Импортируем классификатор MultinomialNB из модуля sklearn.naive_bayes. Этот классификатор реализует наивный Байесовский классификатор для данных. Гиперпараметр alpha контролирует регуляризацию модели"
      ]
    },
    {
      "cell_type": "code",
      "source": [
        "from sklearn.naive_bayes import GaussianNB\n",
        "\n",
        "from sklearn.naive_bayes import MultinomialNB\n",
        "\n",
        "from sklearn.naive_bayes import ComplementNB\n",
        "\n",
        "from sklearn.naive_bayes import BernoulliNB\n",
        "\n",
        "from sklearn.naive_bayes import CategoricalNB"
      ],
      "metadata": {
        "id": "bVcslAv9iNA0"
      },
      "execution_count": null,
      "outputs": []
    },
    {
      "cell_type": "code",
      "source": [
        "%%time\n",
        "\n",
        "# задаем диапазон параметров\n",
        "parameters = {\n",
        "    'alpha': [0, 0.001, 0.01, 0.1, 1.0, 10.0], # аддитивное (Лапласа-Лидстоуна) сглаживание\n",
        "    'force_alpha': [True, False], # применять ли alpha, или ставить в 1e-10\n",
        "    'binarize': [None, 0.0, 0.1, 0.2, 0.3, 0.4, 0.5, 0.6, 0.7, 0.8, 0.9, 1.0], # пороговое значение\n",
        "                                                                               # для бинаризации признаков\n",
        "    'fit_prior': [True, False], # следует ли использовать приоритеты классов, вычисленные из данных\n",
        "    #'class_prior': [None] #  вероятности классов, используемые в качестве приоритетов\n",
        "}\n",
        "\n",
        "\n",
        "# подбираем лучшие параметры\n",
        "grid_nb_bernoulli = GridSearchCV(\n",
        "    BernoulliNB(),\n",
        "    parameters,\n",
        "    scoring='f1',\n",
        "    n_jobs = -1\n",
        ")\n",
        "# обучаем модель\n",
        "grid_nb_bernoulli.fit(X_train, y_train)"
      ],
      "metadata": {
        "colab": {
          "base_uri": "https://localhost:8080/",
          "height": 155
        },
        "id": "nP5KCX7giEfr",
        "outputId": "12a61702-9f34-42fe-d4ea-c8164149beed"
      },
      "execution_count": null,
      "outputs": [
        {
          "output_type": "stream",
          "name": "stdout",
          "text": [
            "CPU times: user 6.24 s, sys: 1.81 s, total: 8.06 s\n",
            "Wall time: 2min 8s\n"
          ]
        },
        {
          "output_type": "execute_result",
          "data": {
            "text/plain": [
              "GridSearchCV(estimator=BernoulliNB(), n_jobs=-1,\n",
              "             param_grid={'alpha': [0, 0.001, 0.01, 0.1, 1.0, 10.0],\n",
              "                         'binarize': [None, 0.0, 0.1, 0.2, 0.3, 0.4, 0.5, 0.6,\n",
              "                                      0.7, 0.8, 0.9, 1.0],\n",
              "                         'fit_prior': [True, False],\n",
              "                         'force_alpha': [True, False]},\n",
              "             scoring='f1')"
            ],
            "text/html": [
              "<style>#sk-container-id-5 {color: black;background-color: white;}#sk-container-id-5 pre{padding: 0;}#sk-container-id-5 div.sk-toggleable {background-color: white;}#sk-container-id-5 label.sk-toggleable__label {cursor: pointer;display: block;width: 100%;margin-bottom: 0;padding: 0.3em;box-sizing: border-box;text-align: center;}#sk-container-id-5 label.sk-toggleable__label-arrow:before {content: \"▸\";float: left;margin-right: 0.25em;color: #696969;}#sk-container-id-5 label.sk-toggleable__label-arrow:hover:before {color: black;}#sk-container-id-5 div.sk-estimator:hover label.sk-toggleable__label-arrow:before {color: black;}#sk-container-id-5 div.sk-toggleable__content {max-height: 0;max-width: 0;overflow: hidden;text-align: left;background-color: #f0f8ff;}#sk-container-id-5 div.sk-toggleable__content pre {margin: 0.2em;color: black;border-radius: 0.25em;background-color: #f0f8ff;}#sk-container-id-5 input.sk-toggleable__control:checked~div.sk-toggleable__content {max-height: 200px;max-width: 100%;overflow: auto;}#sk-container-id-5 input.sk-toggleable__control:checked~label.sk-toggleable__label-arrow:before {content: \"▾\";}#sk-container-id-5 div.sk-estimator input.sk-toggleable__control:checked~label.sk-toggleable__label {background-color: #d4ebff;}#sk-container-id-5 div.sk-label input.sk-toggleable__control:checked~label.sk-toggleable__label {background-color: #d4ebff;}#sk-container-id-5 input.sk-hidden--visually {border: 0;clip: rect(1px 1px 1px 1px);clip: rect(1px, 1px, 1px, 1px);height: 1px;margin: -1px;overflow: hidden;padding: 0;position: absolute;width: 1px;}#sk-container-id-5 div.sk-estimator {font-family: monospace;background-color: #f0f8ff;border: 1px dotted black;border-radius: 0.25em;box-sizing: border-box;margin-bottom: 0.5em;}#sk-container-id-5 div.sk-estimator:hover {background-color: #d4ebff;}#sk-container-id-5 div.sk-parallel-item::after {content: \"\";width: 100%;border-bottom: 1px solid gray;flex-grow: 1;}#sk-container-id-5 div.sk-label:hover label.sk-toggleable__label {background-color: #d4ebff;}#sk-container-id-5 div.sk-serial::before {content: \"\";position: absolute;border-left: 1px solid gray;box-sizing: border-box;top: 0;bottom: 0;left: 50%;z-index: 0;}#sk-container-id-5 div.sk-serial {display: flex;flex-direction: column;align-items: center;background-color: white;padding-right: 0.2em;padding-left: 0.2em;position: relative;}#sk-container-id-5 div.sk-item {position: relative;z-index: 1;}#sk-container-id-5 div.sk-parallel {display: flex;align-items: stretch;justify-content: center;background-color: white;position: relative;}#sk-container-id-5 div.sk-item::before, #sk-container-id-5 div.sk-parallel-item::before {content: \"\";position: absolute;border-left: 1px solid gray;box-sizing: border-box;top: 0;bottom: 0;left: 50%;z-index: -1;}#sk-container-id-5 div.sk-parallel-item {display: flex;flex-direction: column;z-index: 1;position: relative;background-color: white;}#sk-container-id-5 div.sk-parallel-item:first-child::after {align-self: flex-end;width: 50%;}#sk-container-id-5 div.sk-parallel-item:last-child::after {align-self: flex-start;width: 50%;}#sk-container-id-5 div.sk-parallel-item:only-child::after {width: 0;}#sk-container-id-5 div.sk-dashed-wrapped {border: 1px dashed gray;margin: 0 0.4em 0.5em 0.4em;box-sizing: border-box;padding-bottom: 0.4em;background-color: white;}#sk-container-id-5 div.sk-label label {font-family: monospace;font-weight: bold;display: inline-block;line-height: 1.2em;}#sk-container-id-5 div.sk-label-container {text-align: center;}#sk-container-id-5 div.sk-container {/* jupyter's `normalize.less` sets `[hidden] { display: none; }` but bootstrap.min.css set `[hidden] { display: none !important; }` so we also need the `!important` here to be able to override the default hidden behavior on the sphinx rendered scikit-learn.org. See: https://github.com/scikit-learn/scikit-learn/issues/21755 */display: inline-block !important;position: relative;}#sk-container-id-5 div.sk-text-repr-fallback {display: none;}</style><div id=\"sk-container-id-5\" class=\"sk-top-container\"><div class=\"sk-text-repr-fallback\"><pre>GridSearchCV(estimator=BernoulliNB(), n_jobs=-1,\n",
              "             param_grid={&#x27;alpha&#x27;: [0, 0.001, 0.01, 0.1, 1.0, 10.0],\n",
              "                         &#x27;binarize&#x27;: [None, 0.0, 0.1, 0.2, 0.3, 0.4, 0.5, 0.6,\n",
              "                                      0.7, 0.8, 0.9, 1.0],\n",
              "                         &#x27;fit_prior&#x27;: [True, False],\n",
              "                         &#x27;force_alpha&#x27;: [True, False]},\n",
              "             scoring=&#x27;f1&#x27;)</pre><b>In a Jupyter environment, please rerun this cell to show the HTML representation or trust the notebook. <br />On GitHub, the HTML representation is unable to render, please try loading this page with nbviewer.org.</b></div><div class=\"sk-container\" hidden><div class=\"sk-item sk-dashed-wrapped\"><div class=\"sk-label-container\"><div class=\"sk-label sk-toggleable\"><input class=\"sk-toggleable__control sk-hidden--visually\" id=\"sk-estimator-id-11\" type=\"checkbox\" ><label for=\"sk-estimator-id-11\" class=\"sk-toggleable__label sk-toggleable__label-arrow\">GridSearchCV</label><div class=\"sk-toggleable__content\"><pre>GridSearchCV(estimator=BernoulliNB(), n_jobs=-1,\n",
              "             param_grid={&#x27;alpha&#x27;: [0, 0.001, 0.01, 0.1, 1.0, 10.0],\n",
              "                         &#x27;binarize&#x27;: [None, 0.0, 0.1, 0.2, 0.3, 0.4, 0.5, 0.6,\n",
              "                                      0.7, 0.8, 0.9, 1.0],\n",
              "                         &#x27;fit_prior&#x27;: [True, False],\n",
              "                         &#x27;force_alpha&#x27;: [True, False]},\n",
              "             scoring=&#x27;f1&#x27;)</pre></div></div></div><div class=\"sk-parallel\"><div class=\"sk-parallel-item\"><div class=\"sk-item\"><div class=\"sk-label-container\"><div class=\"sk-label sk-toggleable\"><input class=\"sk-toggleable__control sk-hidden--visually\" id=\"sk-estimator-id-12\" type=\"checkbox\" ><label for=\"sk-estimator-id-12\" class=\"sk-toggleable__label sk-toggleable__label-arrow\">estimator: BernoulliNB</label><div class=\"sk-toggleable__content\"><pre>BernoulliNB()</pre></div></div></div><div class=\"sk-serial\"><div class=\"sk-item\"><div class=\"sk-estimator sk-toggleable\"><input class=\"sk-toggleable__control sk-hidden--visually\" id=\"sk-estimator-id-13\" type=\"checkbox\" ><label for=\"sk-estimator-id-13\" class=\"sk-toggleable__label sk-toggleable__label-arrow\">BernoulliNB</label><div class=\"sk-toggleable__content\"><pre>BernoulliNB()</pre></div></div></div></div></div></div></div></div></div></div>"
            ]
          },
          "metadata": {},
          "execution_count": 25
        }
      ]
    },
    {
      "cell_type": "markdown",
      "metadata": {
        "id": "QtI5gl01b_fl"
      },
      "source": [
        "Оценка производительности модели"
      ]
    },
    {
      "cell_type": "code",
      "execution_count": null,
      "metadata": {
        "id": "juxa3d0lGYpM",
        "colab": {
          "base_uri": "https://localhost:8080/"
        },
        "outputId": "709059c9-ecbc-4098-ef7f-05ab37d7df5c"
      },
      "outputs": [
        {
          "output_type": "stream",
          "name": "stdout",
          "text": [
            "Лучшие параметры:\n",
            "{'alpha': 10.0, 'binarize': 0.6, 'fit_prior': False, 'force_alpha': True}\n",
            "\n",
            "Показатель f1 для лучшей модели составил: 55.40%\n",
            "\n",
            "Сравнение метрик: \n",
            "              precision    recall  f1-score   support\n",
            "\n",
            "           0       0.91      0.75      0.82     20110\n",
            "           1       0.44      0.71      0.54      5398\n",
            "\n",
            "    accuracy                           0.75     25508\n",
            "   macro avg       0.67      0.73      0.68     25508\n",
            "weighted avg       0.81      0.75      0.76     25508\n",
            "\n",
            "\n",
            "Матрица ошибок: \n",
            "[[15170  4940]\n",
            " [ 1556  3842]]\n",
            "\n"
          ]
        }
      ],
      "source": [
        "# результаты кросс-валидации\n",
        "print(f'Лучшие параметры:\\n{grid_nb_bernoulli.best_params_}\\n')\n",
        "print(\"Показатель f1 для лучшей модели составил: {:.2f}%\".\n",
        "      format(grid_nb_bernoulli.best_score_ * 100) + '\\n')\n",
        "\n",
        "# предсказываем результат на тестовой выборке\n",
        "grid_nb_bernoulli_pred = grid_nb_bernoulli.predict(X_test)\n",
        "\n",
        "# оцениваем модель\n",
        "print(f'Сравнение метрик: \\n{classification_report(y_test, grid_nb_bernoulli_pred)}\\n')\n",
        "print(f'Матрица ошибок: \\n{confusion_matrix(y_test, grid_nb_bernoulli_pred)}\\n')"
      ]
    },
    {
      "cell_type": "markdown",
      "metadata": {
        "id": "p7VJ4DfbIxdv"
      },
      "source": [
        "## Метод решающего дерева и случайного леса"
      ]
    },
    {
      "cell_type": "markdown",
      "metadata": {
        "id": "3yJT1G8VLkKQ"
      },
      "source": [
        "### Решающее дерево"
      ]
    },
    {
      "cell_type": "markdown",
      "metadata": {
        "id": "ti4Et95BdX7k"
      },
      "source": [
        "Метод решающего дерева строит дерево решений на основе обучающих данных. Каждый узел дерева представляет собой условие на признаке, а каждое ребро представляет собой результат этого условия. В листовых узлах дерева содержатся предсказания\n",
        "\n"
      ]
    },
    {
      "cell_type": "code",
      "execution_count": null,
      "metadata": {
        "id": "YdCVn-LGLP2t",
        "colab": {
          "base_uri": "https://localhost:8080/",
          "height": 598
        },
        "outputId": "709f1775-5334-4b9f-a4d8-cab9e179e4d6"
      },
      "outputs": [
        {
          "output_type": "stream",
          "name": "stderr",
          "text": [
            "/usr/local/lib/python3.10/dist-packages/sklearn/model_selection/_validation.py:378: FitFailedWarning: \n",
            "2880 fits failed out of a total of 8640.\n",
            "The score on these train-test partitions for these parameters will be set to nan.\n",
            "If these failures are not expected, you can try to debug them by setting error_score='raise'.\n",
            "\n",
            "Below are more details about the failures:\n",
            "--------------------------------------------------------------------------------\n",
            "2880 fits failed with the following error:\n",
            "Traceback (most recent call last):\n",
            "  File \"/usr/local/lib/python3.10/dist-packages/sklearn/model_selection/_validation.py\", line 686, in _fit_and_score\n",
            "    estimator.fit(X_train, y_train, **fit_params)\n",
            "  File \"/usr/local/lib/python3.10/dist-packages/sklearn/tree/_classes.py\", line 889, in fit\n",
            "    super().fit(\n",
            "  File \"/usr/local/lib/python3.10/dist-packages/sklearn/tree/_classes.py\", line 177, in fit\n",
            "    self._validate_params()\n",
            "  File \"/usr/local/lib/python3.10/dist-packages/sklearn/base.py\", line 600, in _validate_params\n",
            "    validate_parameter_constraints(\n",
            "  File \"/usr/local/lib/python3.10/dist-packages/sklearn/utils/_param_validation.py\", line 97, in validate_parameter_constraints\n",
            "    raise InvalidParameterError(\n",
            "sklearn.utils._param_validation.InvalidParameterError: The 'class_weight' parameter of DecisionTreeClassifier must be an instance of 'dict', an instance of 'list', a str among {'balanced'} or None. Got 'balanced_subsample' instead.\n",
            "\n",
            "  warnings.warn(some_fits_failed_message, FitFailedWarning)\n",
            "/usr/local/lib/python3.10/dist-packages/sklearn/model_selection/_search.py:952: UserWarning: One or more of the test scores are non-finite: [0.50499757 0.49492038 0.49614886 ...        nan        nan        nan]\n",
            "  warnings.warn(\n"
          ]
        },
        {
          "output_type": "stream",
          "name": "stdout",
          "text": [
            "CPU times: user 1min 17s, sys: 19.6 s, total: 1min 37s\n",
            "Wall time: 1h 19min 19s\n"
          ]
        },
        {
          "output_type": "execute_result",
          "data": {
            "text/plain": [
              "GridSearchCV(estimator=DecisionTreeClassifier(), n_jobs=-1,\n",
              "             param_grid={'ccp_alpha': [0.0, 0.1, 0.2, 0.3, 0.4, 0.5],\n",
              "                         'class_weight': [None, 'balanced',\n",
              "                                          'balanced_subsample'],\n",
              "                         'criterion': ['gini', 'entropy'],\n",
              "                         'max_depth': [None, 10, 20, 30, 40, 50],\n",
              "                         'max_features': [None, 'auto', 'sqrt', 'log2'],\n",
              "                         'splitter': ['best', 'random']},\n",
              "             scoring='f1')"
            ],
            "text/html": [
              "<style>#sk-container-id-6 {color: black;background-color: white;}#sk-container-id-6 pre{padding: 0;}#sk-container-id-6 div.sk-toggleable {background-color: white;}#sk-container-id-6 label.sk-toggleable__label {cursor: pointer;display: block;width: 100%;margin-bottom: 0;padding: 0.3em;box-sizing: border-box;text-align: center;}#sk-container-id-6 label.sk-toggleable__label-arrow:before {content: \"▸\";float: left;margin-right: 0.25em;color: #696969;}#sk-container-id-6 label.sk-toggleable__label-arrow:hover:before {color: black;}#sk-container-id-6 div.sk-estimator:hover label.sk-toggleable__label-arrow:before {color: black;}#sk-container-id-6 div.sk-toggleable__content {max-height: 0;max-width: 0;overflow: hidden;text-align: left;background-color: #f0f8ff;}#sk-container-id-6 div.sk-toggleable__content pre {margin: 0.2em;color: black;border-radius: 0.25em;background-color: #f0f8ff;}#sk-container-id-6 input.sk-toggleable__control:checked~div.sk-toggleable__content {max-height: 200px;max-width: 100%;overflow: auto;}#sk-container-id-6 input.sk-toggleable__control:checked~label.sk-toggleable__label-arrow:before {content: \"▾\";}#sk-container-id-6 div.sk-estimator input.sk-toggleable__control:checked~label.sk-toggleable__label {background-color: #d4ebff;}#sk-container-id-6 div.sk-label input.sk-toggleable__control:checked~label.sk-toggleable__label {background-color: #d4ebff;}#sk-container-id-6 input.sk-hidden--visually {border: 0;clip: rect(1px 1px 1px 1px);clip: rect(1px, 1px, 1px, 1px);height: 1px;margin: -1px;overflow: hidden;padding: 0;position: absolute;width: 1px;}#sk-container-id-6 div.sk-estimator {font-family: monospace;background-color: #f0f8ff;border: 1px dotted black;border-radius: 0.25em;box-sizing: border-box;margin-bottom: 0.5em;}#sk-container-id-6 div.sk-estimator:hover {background-color: #d4ebff;}#sk-container-id-6 div.sk-parallel-item::after {content: \"\";width: 100%;border-bottom: 1px solid gray;flex-grow: 1;}#sk-container-id-6 div.sk-label:hover label.sk-toggleable__label {background-color: #d4ebff;}#sk-container-id-6 div.sk-serial::before {content: \"\";position: absolute;border-left: 1px solid gray;box-sizing: border-box;top: 0;bottom: 0;left: 50%;z-index: 0;}#sk-container-id-6 div.sk-serial {display: flex;flex-direction: column;align-items: center;background-color: white;padding-right: 0.2em;padding-left: 0.2em;position: relative;}#sk-container-id-6 div.sk-item {position: relative;z-index: 1;}#sk-container-id-6 div.sk-parallel {display: flex;align-items: stretch;justify-content: center;background-color: white;position: relative;}#sk-container-id-6 div.sk-item::before, #sk-container-id-6 div.sk-parallel-item::before {content: \"\";position: absolute;border-left: 1px solid gray;box-sizing: border-box;top: 0;bottom: 0;left: 50%;z-index: -1;}#sk-container-id-6 div.sk-parallel-item {display: flex;flex-direction: column;z-index: 1;position: relative;background-color: white;}#sk-container-id-6 div.sk-parallel-item:first-child::after {align-self: flex-end;width: 50%;}#sk-container-id-6 div.sk-parallel-item:last-child::after {align-self: flex-start;width: 50%;}#sk-container-id-6 div.sk-parallel-item:only-child::after {width: 0;}#sk-container-id-6 div.sk-dashed-wrapped {border: 1px dashed gray;margin: 0 0.4em 0.5em 0.4em;box-sizing: border-box;padding-bottom: 0.4em;background-color: white;}#sk-container-id-6 div.sk-label label {font-family: monospace;font-weight: bold;display: inline-block;line-height: 1.2em;}#sk-container-id-6 div.sk-label-container {text-align: center;}#sk-container-id-6 div.sk-container {/* jupyter's `normalize.less` sets `[hidden] { display: none; }` but bootstrap.min.css set `[hidden] { display: none !important; }` so we also need the `!important` here to be able to override the default hidden behavior on the sphinx rendered scikit-learn.org. See: https://github.com/scikit-learn/scikit-learn/issues/21755 */display: inline-block !important;position: relative;}#sk-container-id-6 div.sk-text-repr-fallback {display: none;}</style><div id=\"sk-container-id-6\" class=\"sk-top-container\"><div class=\"sk-text-repr-fallback\"><pre>GridSearchCV(estimator=DecisionTreeClassifier(), n_jobs=-1,\n",
              "             param_grid={&#x27;ccp_alpha&#x27;: [0.0, 0.1, 0.2, 0.3, 0.4, 0.5],\n",
              "                         &#x27;class_weight&#x27;: [None, &#x27;balanced&#x27;,\n",
              "                                          &#x27;balanced_subsample&#x27;],\n",
              "                         &#x27;criterion&#x27;: [&#x27;gini&#x27;, &#x27;entropy&#x27;],\n",
              "                         &#x27;max_depth&#x27;: [None, 10, 20, 30, 40, 50],\n",
              "                         &#x27;max_features&#x27;: [None, &#x27;auto&#x27;, &#x27;sqrt&#x27;, &#x27;log2&#x27;],\n",
              "                         &#x27;splitter&#x27;: [&#x27;best&#x27;, &#x27;random&#x27;]},\n",
              "             scoring=&#x27;f1&#x27;)</pre><b>In a Jupyter environment, please rerun this cell to show the HTML representation or trust the notebook. <br />On GitHub, the HTML representation is unable to render, please try loading this page with nbviewer.org.</b></div><div class=\"sk-container\" hidden><div class=\"sk-item sk-dashed-wrapped\"><div class=\"sk-label-container\"><div class=\"sk-label sk-toggleable\"><input class=\"sk-toggleable__control sk-hidden--visually\" id=\"sk-estimator-id-14\" type=\"checkbox\" ><label for=\"sk-estimator-id-14\" class=\"sk-toggleable__label sk-toggleable__label-arrow\">GridSearchCV</label><div class=\"sk-toggleable__content\"><pre>GridSearchCV(estimator=DecisionTreeClassifier(), n_jobs=-1,\n",
              "             param_grid={&#x27;ccp_alpha&#x27;: [0.0, 0.1, 0.2, 0.3, 0.4, 0.5],\n",
              "                         &#x27;class_weight&#x27;: [None, &#x27;balanced&#x27;,\n",
              "                                          &#x27;balanced_subsample&#x27;],\n",
              "                         &#x27;criterion&#x27;: [&#x27;gini&#x27;, &#x27;entropy&#x27;],\n",
              "                         &#x27;max_depth&#x27;: [None, 10, 20, 30, 40, 50],\n",
              "                         &#x27;max_features&#x27;: [None, &#x27;auto&#x27;, &#x27;sqrt&#x27;, &#x27;log2&#x27;],\n",
              "                         &#x27;splitter&#x27;: [&#x27;best&#x27;, &#x27;random&#x27;]},\n",
              "             scoring=&#x27;f1&#x27;)</pre></div></div></div><div class=\"sk-parallel\"><div class=\"sk-parallel-item\"><div class=\"sk-item\"><div class=\"sk-label-container\"><div class=\"sk-label sk-toggleable\"><input class=\"sk-toggleable__control sk-hidden--visually\" id=\"sk-estimator-id-15\" type=\"checkbox\" ><label for=\"sk-estimator-id-15\" class=\"sk-toggleable__label sk-toggleable__label-arrow\">estimator: DecisionTreeClassifier</label><div class=\"sk-toggleable__content\"><pre>DecisionTreeClassifier()</pre></div></div></div><div class=\"sk-serial\"><div class=\"sk-item\"><div class=\"sk-estimator sk-toggleable\"><input class=\"sk-toggleable__control sk-hidden--visually\" id=\"sk-estimator-id-16\" type=\"checkbox\" ><label for=\"sk-estimator-id-16\" class=\"sk-toggleable__label sk-toggleable__label-arrow\">DecisionTreeClassifier</label><div class=\"sk-toggleable__content\"><pre>DecisionTreeClassifier()</pre></div></div></div></div></div></div></div></div></div></div>"
            ]
          },
          "metadata": {},
          "execution_count": 27
        }
      ],
      "source": [
        "%%time\n",
        "\n",
        "# задаем диапазон параметров\n",
        "parameters = {\n",
        "    'criterion': ['gini', 'entropy'], # функция для измерения качества разделения\n",
        "    'splitter': ['best', 'random'], # стратегия выбора признака для разделения\n",
        "    'max_depth': [None, 10, 20, 30, 40, 50], # максимальная глубина дерева\n",
        "    #'min_samples_split': [2, 5, 10, 20], # минимальное количество образцов для разделения узла\n",
        "    #'min_samples_leaf': [1, 2, 5, 10], # минимальное количество образцов для листа\n",
        "    #'min_weight_fraction_leaf': [0.0, 0.1, 0.2, 0.3, 0.4, 0.5], # минимальная доля веса образцов в листе\n",
        "    'max_features': [None, 'auto', 'sqrt', 'log2'], # количество признаков при поиске лучшего разделения\n",
        "    #'max_leaf_nodes': [None, 10, 20, 30, 40, 50], # максимальное количество листьев\n",
        "    #'min_impurity_decrease': [0.0, 0.1, 0.2, 0.3, 0.4, 0.5], # минимальное уменьшение неопределенности для разделения\n",
        "    'class_weight': [None, 'balanced', 'balanced_subsample'], # веса классов\n",
        "    'ccp_alpha': [0.0, 0.1, 0.2, 0.3, 0.4, 0.5] # параметр для контроля сжатия дерева\n",
        "}\n",
        "\n",
        "# подбираем лучшие параметры\n",
        "grid_ensemble_tree = GridSearchCV(\n",
        "    DecisionTreeClassifier(),\n",
        "    parameters,\n",
        "    scoring='f1',\n",
        "    n_jobs = -1\n",
        ")\n",
        "# обучаем модель\n",
        "grid_ensemble_tree.fit(X_train, y_train)"
      ]
    },
    {
      "cell_type": "code",
      "source": [
        "# результаты кросс-валидации\n",
        "print(f'Лучшие параметры:\\n{grid_ensemble_tree.best_params_}\\n')\n",
        "print(\"Показатель f1 для лучшей модели составил: {:.2f}%\".\n",
        "      format(grid_ensemble_tree.best_score_ * 100) + '\\n')\n",
        "\n",
        "# предсказываем результат на тестовой выборке\n",
        "grid_ensemble_tree_pred = grid_ensemble_tree.predict(X_test)\n",
        "\n",
        "# оцениваем модель\n",
        "print(f'Сравнение метрик: \\n{classification_report(y_test, grid_ensemble_tree_pred)}\\n')\n",
        "print(f'Матрица ошибок: \\n{confusion_matrix(y_test, grid_ensemble_tree_pred)}\\n')"
      ],
      "metadata": {
        "colab": {
          "base_uri": "https://localhost:8080/"
        },
        "id": "sY7qmp_vpXlF",
        "outputId": "48fa861d-e825-4afa-9338-c3cf9af692b7"
      },
      "execution_count": null,
      "outputs": [
        {
          "output_type": "stream",
          "name": "stdout",
          "text": [
            "Лучшие параметры:\n",
            "{'ccp_alpha': 0.0, 'class_weight': 'balanced', 'criterion': 'gini', 'max_depth': 10, 'max_features': None, 'splitter': 'best'}\n",
            "\n",
            "Показатель f1 для лучшей модели составил: 58.15%\n",
            "\n",
            "Сравнение метрик: \n",
            "              precision    recall  f1-score   support\n",
            "\n",
            "           0       0.92      0.78      0.84     20110\n",
            "           1       0.47      0.75      0.58      5398\n",
            "\n",
            "    accuracy                           0.77     25508\n",
            "   macro avg       0.70      0.76      0.71     25508\n",
            "weighted avg       0.83      0.77      0.79     25508\n",
            "\n",
            "\n",
            "Матрица ошибок: \n",
            "[[15610  4500]\n",
            " [ 1364  4034]]\n",
            "\n"
          ]
        }
      ]
    },
    {
      "cell_type": "markdown",
      "metadata": {
        "id": "HnW6N8B8Ltw7"
      },
      "source": [
        "### Случайный лес"
      ]
    },
    {
      "cell_type": "markdown",
      "metadata": {
        "id": "8e6Fug7Qdl0S"
      },
      "source": [
        "Метод случайного леса  является ансамблевым методом, который объединяет несколько деревьев решений для классификации или регрессии. Каждое дерево строится на основе подвыборки данных и случайного подмножества признаков. Затем результаты всех деревьев усредняются (для регрессии) или принимается решение путем голосования (для классификации)."
      ]
    },
    {
      "cell_type": "code",
      "source": [
        "%%time\n",
        "\n",
        "# задаем диапазон параметров\n",
        "parameters = {\n",
        "    'n_estimators': [100, 200], # количество деревьев в лесу\n",
        "    'criterion': ['gini', 'entropy'], # функция для измерения качества разделения\n",
        "    'max_depth': [None, 50, 100], # максимальная глубина дерева\n",
        "    'max_features': ['auto', 'sqrt', 'log2'], # количество признаков при поиске лучшего разделения\n",
        "    'oob_score': [True, False], # следует ли использовать out-of-bag (OOB) оценку для оценки качества модели\n",
        "    #'class_weight': [None, 'balanced', 'balanced_subsample'], # веса классов\n",
        "    'ccp_alpha': [0.0, 0.1, 0.2, 0.3, 0.4, 0.5], # параметр контроля сжатия дерева\n",
        "}\n",
        "\n",
        "# подбираем лучшие параметры\n",
        "grid_ensemble_randforest = RandomizedSearchCV(\n",
        "    RandomForestClassifier(),\n",
        "    parameters,\n",
        "    scoring='f1',\n",
        "    n_jobs = -1\n",
        ")\n",
        "# обучаем модель\n",
        "grid_ensemble_randforest.fit(X_train, y_train)"
      ],
      "metadata": {
        "id": "j5N2hlE2hu2S",
        "colab": {
          "base_uri": "https://localhost:8080/",
          "height": 192
        },
        "outputId": "ae10ac81-523e-4d07-ceef-2d8a282fa9fe"
      },
      "execution_count": 11,
      "outputs": [
        {
          "output_type": "stream",
          "name": "stderr",
          "text": [
            "/usr/local/lib/python3.10/dist-packages/sklearn/ensemble/_forest.py:424: FutureWarning: `max_features='auto'` has been deprecated in 1.1 and will be removed in 1.3. To keep the past behaviour, explicitly set `max_features='sqrt'` or remove this parameter as it is also the default value for RandomForestClassifiers and ExtraTreesClassifiers.\n",
            "  warn(\n"
          ]
        },
        {
          "output_type": "stream",
          "name": "stdout",
          "text": [
            "CPU times: user 59.2 s, sys: 5.22 s, total: 1min 4s\n",
            "Wall time: 46min 11s\n"
          ]
        },
        {
          "output_type": "execute_result",
          "data": {
            "text/plain": [
              "RandomizedSearchCV(estimator=RandomForestClassifier(), n_jobs=-1,\n",
              "                   param_distributions={'ccp_alpha': [0.0, 0.1, 0.2, 0.3, 0.4,\n",
              "                                                      0.5],\n",
              "                                        'criterion': ['gini', 'entropy'],\n",
              "                                        'max_depth': [None, 50, 100],\n",
              "                                        'max_features': ['auto', 'sqrt',\n",
              "                                                         'log2'],\n",
              "                                        'n_estimators': [100, 200],\n",
              "                                        'oob_score': [True, False]},\n",
              "                   scoring='f1')"
            ],
            "text/html": [
              "<style>#sk-container-id-1 {color: black;background-color: white;}#sk-container-id-1 pre{padding: 0;}#sk-container-id-1 div.sk-toggleable {background-color: white;}#sk-container-id-1 label.sk-toggleable__label {cursor: pointer;display: block;width: 100%;margin-bottom: 0;padding: 0.3em;box-sizing: border-box;text-align: center;}#sk-container-id-1 label.sk-toggleable__label-arrow:before {content: \"▸\";float: left;margin-right: 0.25em;color: #696969;}#sk-container-id-1 label.sk-toggleable__label-arrow:hover:before {color: black;}#sk-container-id-1 div.sk-estimator:hover label.sk-toggleable__label-arrow:before {color: black;}#sk-container-id-1 div.sk-toggleable__content {max-height: 0;max-width: 0;overflow: hidden;text-align: left;background-color: #f0f8ff;}#sk-container-id-1 div.sk-toggleable__content pre {margin: 0.2em;color: black;border-radius: 0.25em;background-color: #f0f8ff;}#sk-container-id-1 input.sk-toggleable__control:checked~div.sk-toggleable__content {max-height: 200px;max-width: 100%;overflow: auto;}#sk-container-id-1 input.sk-toggleable__control:checked~label.sk-toggleable__label-arrow:before {content: \"▾\";}#sk-container-id-1 div.sk-estimator input.sk-toggleable__control:checked~label.sk-toggleable__label {background-color: #d4ebff;}#sk-container-id-1 div.sk-label input.sk-toggleable__control:checked~label.sk-toggleable__label {background-color: #d4ebff;}#sk-container-id-1 input.sk-hidden--visually {border: 0;clip: rect(1px 1px 1px 1px);clip: rect(1px, 1px, 1px, 1px);height: 1px;margin: -1px;overflow: hidden;padding: 0;position: absolute;width: 1px;}#sk-container-id-1 div.sk-estimator {font-family: monospace;background-color: #f0f8ff;border: 1px dotted black;border-radius: 0.25em;box-sizing: border-box;margin-bottom: 0.5em;}#sk-container-id-1 div.sk-estimator:hover {background-color: #d4ebff;}#sk-container-id-1 div.sk-parallel-item::after {content: \"\";width: 100%;border-bottom: 1px solid gray;flex-grow: 1;}#sk-container-id-1 div.sk-label:hover label.sk-toggleable__label {background-color: #d4ebff;}#sk-container-id-1 div.sk-serial::before {content: \"\";position: absolute;border-left: 1px solid gray;box-sizing: border-box;top: 0;bottom: 0;left: 50%;z-index: 0;}#sk-container-id-1 div.sk-serial {display: flex;flex-direction: column;align-items: center;background-color: white;padding-right: 0.2em;padding-left: 0.2em;position: relative;}#sk-container-id-1 div.sk-item {position: relative;z-index: 1;}#sk-container-id-1 div.sk-parallel {display: flex;align-items: stretch;justify-content: center;background-color: white;position: relative;}#sk-container-id-1 div.sk-item::before, #sk-container-id-1 div.sk-parallel-item::before {content: \"\";position: absolute;border-left: 1px solid gray;box-sizing: border-box;top: 0;bottom: 0;left: 50%;z-index: -1;}#sk-container-id-1 div.sk-parallel-item {display: flex;flex-direction: column;z-index: 1;position: relative;background-color: white;}#sk-container-id-1 div.sk-parallel-item:first-child::after {align-self: flex-end;width: 50%;}#sk-container-id-1 div.sk-parallel-item:last-child::after {align-self: flex-start;width: 50%;}#sk-container-id-1 div.sk-parallel-item:only-child::after {width: 0;}#sk-container-id-1 div.sk-dashed-wrapped {border: 1px dashed gray;margin: 0 0.4em 0.5em 0.4em;box-sizing: border-box;padding-bottom: 0.4em;background-color: white;}#sk-container-id-1 div.sk-label label {font-family: monospace;font-weight: bold;display: inline-block;line-height: 1.2em;}#sk-container-id-1 div.sk-label-container {text-align: center;}#sk-container-id-1 div.sk-container {/* jupyter's `normalize.less` sets `[hidden] { display: none; }` but bootstrap.min.css set `[hidden] { display: none !important; }` so we also need the `!important` here to be able to override the default hidden behavior on the sphinx rendered scikit-learn.org. See: https://github.com/scikit-learn/scikit-learn/issues/21755 */display: inline-block !important;position: relative;}#sk-container-id-1 div.sk-text-repr-fallback {display: none;}</style><div id=\"sk-container-id-1\" class=\"sk-top-container\"><div class=\"sk-text-repr-fallback\"><pre>RandomizedSearchCV(estimator=RandomForestClassifier(), n_jobs=-1,\n",
              "                   param_distributions={&#x27;ccp_alpha&#x27;: [0.0, 0.1, 0.2, 0.3, 0.4,\n",
              "                                                      0.5],\n",
              "                                        &#x27;criterion&#x27;: [&#x27;gini&#x27;, &#x27;entropy&#x27;],\n",
              "                                        &#x27;max_depth&#x27;: [None, 50, 100],\n",
              "                                        &#x27;max_features&#x27;: [&#x27;auto&#x27;, &#x27;sqrt&#x27;,\n",
              "                                                         &#x27;log2&#x27;],\n",
              "                                        &#x27;n_estimators&#x27;: [100, 200],\n",
              "                                        &#x27;oob_score&#x27;: [True, False]},\n",
              "                   scoring=&#x27;f1&#x27;)</pre><b>In a Jupyter environment, please rerun this cell to show the HTML representation or trust the notebook. <br />On GitHub, the HTML representation is unable to render, please try loading this page with nbviewer.org.</b></div><div class=\"sk-container\" hidden><div class=\"sk-item sk-dashed-wrapped\"><div class=\"sk-label-container\"><div class=\"sk-label sk-toggleable\"><input class=\"sk-toggleable__control sk-hidden--visually\" id=\"sk-estimator-id-1\" type=\"checkbox\" ><label for=\"sk-estimator-id-1\" class=\"sk-toggleable__label sk-toggleable__label-arrow\">RandomizedSearchCV</label><div class=\"sk-toggleable__content\"><pre>RandomizedSearchCV(estimator=RandomForestClassifier(), n_jobs=-1,\n",
              "                   param_distributions={&#x27;ccp_alpha&#x27;: [0.0, 0.1, 0.2, 0.3, 0.4,\n",
              "                                                      0.5],\n",
              "                                        &#x27;criterion&#x27;: [&#x27;gini&#x27;, &#x27;entropy&#x27;],\n",
              "                                        &#x27;max_depth&#x27;: [None, 50, 100],\n",
              "                                        &#x27;max_features&#x27;: [&#x27;auto&#x27;, &#x27;sqrt&#x27;,\n",
              "                                                         &#x27;log2&#x27;],\n",
              "                                        &#x27;n_estimators&#x27;: [100, 200],\n",
              "                                        &#x27;oob_score&#x27;: [True, False]},\n",
              "                   scoring=&#x27;f1&#x27;)</pre></div></div></div><div class=\"sk-parallel\"><div class=\"sk-parallel-item\"><div class=\"sk-item\"><div class=\"sk-label-container\"><div class=\"sk-label sk-toggleable\"><input class=\"sk-toggleable__control sk-hidden--visually\" id=\"sk-estimator-id-2\" type=\"checkbox\" ><label for=\"sk-estimator-id-2\" class=\"sk-toggleable__label sk-toggleable__label-arrow\">estimator: RandomForestClassifier</label><div class=\"sk-toggleable__content\"><pre>RandomForestClassifier()</pre></div></div></div><div class=\"sk-serial\"><div class=\"sk-item\"><div class=\"sk-estimator sk-toggleable\"><input class=\"sk-toggleable__control sk-hidden--visually\" id=\"sk-estimator-id-3\" type=\"checkbox\" ><label for=\"sk-estimator-id-3\" class=\"sk-toggleable__label sk-toggleable__label-arrow\">RandomForestClassifier</label><div class=\"sk-toggleable__content\"><pre>RandomForestClassifier()</pre></div></div></div></div></div></div></div></div></div></div>"
            ]
          },
          "metadata": {},
          "execution_count": 11
        }
      ]
    },
    {
      "cell_type": "code",
      "source": [
        "# предсказываем результат на тестовой выборке\n",
        "grid_ensemble_randforest_pred = grid_ensemble_randforest.predict(X_test)\n",
        "\n",
        "# оцениваем модель\n",
        "print(f'Сравнение метрик: \\n{classification_report(y_test, grid_ensemble_randforest_pred)}\\n')\n",
        "print(f'Матрица ошибок: \\n{confusion_matrix(y_test, grid_ensemble_randforest_pred)}\\n')"
      ],
      "metadata": {
        "id": "Fb0xh6jThxu1",
        "colab": {
          "base_uri": "https://localhost:8080/"
        },
        "outputId": "197accce-9a3c-4e67-f1b7-cb4b97ed99c5"
      },
      "execution_count": 13,
      "outputs": [
        {
          "output_type": "stream",
          "name": "stdout",
          "text": [
            "Сравнение метрик: \n",
            "              precision    recall  f1-score   support\n",
            "\n",
            "           0       0.87      0.96      0.91     20110\n",
            "           1       0.75      0.48      0.59      5398\n",
            "\n",
            "    accuracy                           0.86     25508\n",
            "   macro avg       0.81      0.72      0.75     25508\n",
            "weighted avg       0.85      0.86      0.84     25508\n",
            "\n",
            "\n",
            "Матрица ошибок: \n",
            "[[19244   866]\n",
            " [ 2781  2617]]\n",
            "\n"
          ]
        }
      ]
    },
    {
      "cell_type": "markdown",
      "metadata": {
        "id": "ffVgfyCjQk05"
      },
      "source": [
        "## Метод CatBoost"
      ]
    },
    {
      "cell_type": "markdown",
      "metadata": {
        "id": "EWnKcQiZVXXH"
      },
      "source": [
        "CatBoost - это высокоэффективная библиотека градиентного бустинга, разработанная компанией Яндекс. Она специально оптимизирована для работы с категориальными признаками и автоматически обрабатывает их без необходимости предварительного кодирования."
      ]
    },
    {
      "cell_type": "markdown",
      "metadata": {
        "id": "xTHhfqMfNAIK"
      },
      "source": [
        "Гиперпараметры: iterations: количество итераций обучения; learning_rate: скорость обучения; depth - максимальная глубина дерева; border_count: количество корзин для числовых признаков. Этот параметр влияет на скорость обучения и качество модели."
      ]
    },
    {
      "cell_type": "code",
      "source": [
        "%%time\n",
        "\n",
        "# задаем диапазон параметров\n",
        "# задаем параметры\n",
        "parameters = {\n",
        "    'depth': [5, 10], # максимальная глубина дерева\n",
        "    'learning_rate': [0.01, 0.1], # скорость обучения\n",
        "    'iterations': [10, 100], # количество итераций\n",
        "    'l2_leaf_reg': [1, 10], # коэффициент L2 регуляризации листьев\n",
        "    'border_count': [1, 255], # количество границ для числовых признаков\n",
        "    'loss_function': ['Logloss', 'CrossEntropy', 'MultiClass', 'MultiClassOneVsAll'], # функция потерь\n",
        "    'random_strength': [0, 1], # сила случайности в выборе признаков на каждом уровне\n",
        "    'bagging_temperature': [0, 1], # температура для баггинга\n",
        "    'od_type': ['IncToDec', 'Iter', 'None'], # тип оптимизации\n",
        "    'od_wait': [10, 100] # количество итераций между проверками оптимизации\n",
        "}\n",
        "\n",
        "# подбираем лучшие параметры\n",
        "grid_catboost = RandomizedSearchCV(\n",
        "    CatBoostClassifier(),\n",
        "    parameters,\n",
        "    scoring='f1',\n",
        "    n_jobs = -1\n",
        ")\n",
        "# обучаем модель\n",
        "grid_catboost.fit(X_train, y_train)"
      ],
      "metadata": {
        "colab": {
          "base_uri": "https://localhost:8080/",
          "height": 1000
        },
        "id": "RFTsvgKvplBf",
        "outputId": "086db660-e95b-447e-aaa7-0065e9e95447"
      },
      "execution_count": null,
      "outputs": [
        {
          "output_type": "stream",
          "name": "stderr",
          "text": [
            "/usr/local/lib/python3.10/dist-packages/joblib/externals/loky/process_executor.py:752: UserWarning: A worker stopped while some jobs were given to the executor. This can be caused by a too short worker timeout or by a memory leak.\n",
            "  warnings.warn(\n"
          ]
        },
        {
          "output_type": "stream",
          "name": "stdout",
          "text": [
            "0:\tlearn: 0.6200791\ttotal: 167ms\tremaining: 16.5s\n",
            "1:\tlearn: 0.5655463\ttotal: 264ms\tremaining: 12.9s\n",
            "2:\tlearn: 0.5193106\ttotal: 360ms\tremaining: 11.7s\n",
            "3:\tlearn: 0.4840942\ttotal: 465ms\tremaining: 11.1s\n",
            "4:\tlearn: 0.4559861\ttotal: 564ms\tremaining: 10.7s\n",
            "5:\tlearn: 0.4343461\ttotal: 662ms\tremaining: 10.4s\n",
            "6:\tlearn: 0.4185209\ttotal: 765ms\tremaining: 10.2s\n",
            "7:\tlearn: 0.4049521\ttotal: 858ms\tremaining: 9.87s\n",
            "8:\tlearn: 0.3949680\ttotal: 957ms\tremaining: 9.68s\n",
            "9:\tlearn: 0.3879397\ttotal: 1.06s\tremaining: 9.53s\n",
            "10:\tlearn: 0.3807925\ttotal: 1.17s\tremaining: 9.47s\n",
            "11:\tlearn: 0.3745913\ttotal: 1.27s\tremaining: 9.34s\n",
            "12:\tlearn: 0.3697771\ttotal: 1.37s\tremaining: 9.18s\n",
            "13:\tlearn: 0.3656042\ttotal: 1.47s\tremaining: 9.02s\n",
            "14:\tlearn: 0.3621814\ttotal: 1.57s\tremaining: 8.88s\n",
            "15:\tlearn: 0.3586145\ttotal: 1.67s\tremaining: 8.75s\n",
            "16:\tlearn: 0.3558318\ttotal: 1.76s\tremaining: 8.6s\n",
            "17:\tlearn: 0.3529630\ttotal: 1.86s\tremaining: 8.47s\n",
            "18:\tlearn: 0.3505055\ttotal: 1.96s\tremaining: 8.34s\n",
            "19:\tlearn: 0.3481100\ttotal: 2.06s\tremaining: 8.22s\n",
            "20:\tlearn: 0.3462061\ttotal: 2.16s\tremaining: 8.14s\n",
            "21:\tlearn: 0.3446457\ttotal: 2.27s\tremaining: 8.05s\n",
            "22:\tlearn: 0.3431916\ttotal: 2.37s\tremaining: 7.93s\n",
            "23:\tlearn: 0.3418821\ttotal: 2.46s\tremaining: 7.8s\n",
            "24:\tlearn: 0.3405553\ttotal: 2.56s\tremaining: 7.68s\n",
            "25:\tlearn: 0.3393111\ttotal: 2.66s\tremaining: 7.58s\n",
            "26:\tlearn: 0.3379484\ttotal: 2.76s\tremaining: 7.46s\n",
            "27:\tlearn: 0.3368025\ttotal: 2.85s\tremaining: 7.34s\n",
            "28:\tlearn: 0.3360076\ttotal: 2.95s\tremaining: 7.23s\n",
            "29:\tlearn: 0.3347166\ttotal: 3.05s\tremaining: 7.12s\n",
            "30:\tlearn: 0.3335225\ttotal: 3.15s\tremaining: 7s\n",
            "31:\tlearn: 0.3328639\ttotal: 3.26s\tremaining: 6.93s\n",
            "32:\tlearn: 0.3319641\ttotal: 3.35s\tremaining: 6.81s\n",
            "33:\tlearn: 0.3311043\ttotal: 3.45s\tremaining: 6.7s\n",
            "34:\tlearn: 0.3298181\ttotal: 3.56s\tremaining: 6.61s\n",
            "35:\tlearn: 0.3290322\ttotal: 3.65s\tremaining: 6.49s\n",
            "36:\tlearn: 0.3283567\ttotal: 3.75s\tremaining: 6.38s\n",
            "37:\tlearn: 0.3275824\ttotal: 3.84s\tremaining: 6.27s\n",
            "38:\tlearn: 0.3268551\ttotal: 3.94s\tremaining: 6.16s\n",
            "39:\tlearn: 0.3260331\ttotal: 4.04s\tremaining: 6.05s\n",
            "40:\tlearn: 0.3254416\ttotal: 4.14s\tremaining: 5.95s\n",
            "41:\tlearn: 0.3247151\ttotal: 4.25s\tremaining: 5.87s\n",
            "42:\tlearn: 0.3240071\ttotal: 4.35s\tremaining: 5.77s\n",
            "43:\tlearn: 0.3233997\ttotal: 4.44s\tremaining: 5.66s\n",
            "44:\tlearn: 0.3226528\ttotal: 4.54s\tremaining: 5.55s\n",
            "45:\tlearn: 0.3220679\ttotal: 4.65s\tremaining: 5.46s\n",
            "46:\tlearn: 0.3211530\ttotal: 4.75s\tremaining: 5.35s\n",
            "47:\tlearn: 0.3206501\ttotal: 4.84s\tremaining: 5.24s\n",
            "48:\tlearn: 0.3201315\ttotal: 4.94s\tremaining: 5.14s\n",
            "49:\tlearn: 0.3194451\ttotal: 5.04s\tremaining: 5.04s\n",
            "50:\tlearn: 0.3188462\ttotal: 5.13s\tremaining: 4.93s\n",
            "51:\tlearn: 0.3182543\ttotal: 5.24s\tremaining: 4.84s\n",
            "52:\tlearn: 0.3177211\ttotal: 5.36s\tremaining: 4.75s\n",
            "53:\tlearn: 0.3172047\ttotal: 5.45s\tremaining: 4.64s\n",
            "54:\tlearn: 0.3163926\ttotal: 5.56s\tremaining: 4.54s\n",
            "55:\tlearn: 0.3158606\ttotal: 5.65s\tremaining: 4.44s\n",
            "56:\tlearn: 0.3153045\ttotal: 5.75s\tremaining: 4.34s\n",
            "57:\tlearn: 0.3144180\ttotal: 5.85s\tremaining: 4.24s\n",
            "58:\tlearn: 0.3138005\ttotal: 5.95s\tremaining: 4.13s\n",
            "59:\tlearn: 0.3132041\ttotal: 6.04s\tremaining: 4.03s\n",
            "60:\tlearn: 0.3125307\ttotal: 6.14s\tremaining: 3.92s\n",
            "61:\tlearn: 0.3119626\ttotal: 6.24s\tremaining: 3.82s\n",
            "62:\tlearn: 0.3112885\ttotal: 6.35s\tremaining: 3.73s\n",
            "63:\tlearn: 0.3110341\ttotal: 6.44s\tremaining: 3.62s\n",
            "64:\tlearn: 0.3105441\ttotal: 6.54s\tremaining: 3.52s\n",
            "65:\tlearn: 0.3100063\ttotal: 6.64s\tremaining: 3.42s\n",
            "66:\tlearn: 0.3093591\ttotal: 6.74s\tremaining: 3.32s\n",
            "67:\tlearn: 0.3087066\ttotal: 6.83s\tremaining: 3.22s\n",
            "68:\tlearn: 0.3078914\ttotal: 6.93s\tremaining: 3.12s\n",
            "69:\tlearn: 0.3075767\ttotal: 7.03s\tremaining: 3.01s\n",
            "70:\tlearn: 0.3067475\ttotal: 7.13s\tremaining: 2.91s\n",
            "71:\tlearn: 0.3061726\ttotal: 7.23s\tremaining: 2.81s\n",
            "72:\tlearn: 0.3056695\ttotal: 7.34s\tremaining: 2.71s\n",
            "73:\tlearn: 0.3052693\ttotal: 7.44s\tremaining: 2.61s\n",
            "74:\tlearn: 0.3045685\ttotal: 7.54s\tremaining: 2.51s\n",
            "75:\tlearn: 0.3038319\ttotal: 7.63s\tremaining: 2.41s\n",
            "76:\tlearn: 0.3034233\ttotal: 7.74s\tremaining: 2.31s\n",
            "77:\tlearn: 0.3027724\ttotal: 7.83s\tremaining: 2.21s\n",
            "78:\tlearn: 0.3024163\ttotal: 7.93s\tremaining: 2.11s\n",
            "79:\tlearn: 0.3017950\ttotal: 8.03s\tremaining: 2.01s\n",
            "80:\tlearn: 0.3013868\ttotal: 8.12s\tremaining: 1.9s\n",
            "81:\tlearn: 0.3009642\ttotal: 8.21s\tremaining: 1.8s\n",
            "82:\tlearn: 0.3000394\ttotal: 8.32s\tremaining: 1.7s\n",
            "83:\tlearn: 0.2990954\ttotal: 8.44s\tremaining: 1.61s\n",
            "84:\tlearn: 0.2986996\ttotal: 8.54s\tremaining: 1.51s\n",
            "85:\tlearn: 0.2981967\ttotal: 8.63s\tremaining: 1.41s\n",
            "86:\tlearn: 0.2978126\ttotal: 8.74s\tremaining: 1.31s\n",
            "87:\tlearn: 0.2973790\ttotal: 8.84s\tremaining: 1.21s\n",
            "88:\tlearn: 0.2969482\ttotal: 8.94s\tremaining: 1.1s\n",
            "89:\tlearn: 0.2964155\ttotal: 9.04s\tremaining: 1s\n",
            "90:\tlearn: 0.2961181\ttotal: 9.13s\tremaining: 903ms\n",
            "91:\tlearn: 0.2955181\ttotal: 9.23s\tremaining: 803ms\n",
            "92:\tlearn: 0.2951286\ttotal: 9.34s\tremaining: 703ms\n",
            "93:\tlearn: 0.2945697\ttotal: 9.5s\tremaining: 606ms\n",
            "94:\tlearn: 0.2939620\ttotal: 9.69s\tremaining: 510ms\n",
            "95:\tlearn: 0.2936060\ttotal: 9.87s\tremaining: 411ms\n",
            "96:\tlearn: 0.2932197\ttotal: 10.1s\tremaining: 311ms\n",
            "97:\tlearn: 0.2926978\ttotal: 10.3s\tremaining: 209ms\n",
            "98:\tlearn: 0.2920798\ttotal: 10.5s\tremaining: 106ms\n",
            "99:\tlearn: 0.2915522\ttotal: 10.6s\tremaining: 0us\n",
            "CPU times: user 21.1 s, sys: 1.13 s, total: 22.2 s\n",
            "Wall time: 5min 11s\n"
          ]
        },
        {
          "output_type": "execute_result",
          "data": {
            "text/plain": [
              "RandomizedSearchCV(estimator=<catboost.core.CatBoostClassifier object at 0x7a0510c2f2e0>,\n",
              "                   n_jobs=-1,\n",
              "                   param_distributions={'bagging_temperature': [0, 1],\n",
              "                                        'border_count': [1, 255],\n",
              "                                        'depth': [5, 10],\n",
              "                                        'iterations': [10, 100],\n",
              "                                        'l2_leaf_reg': [1, 10],\n",
              "                                        'learning_rate': [0.01, 0.1],\n",
              "                                        'loss_function': ['Logloss',\n",
              "                                                          'CrossEntropy',\n",
              "                                                          'MultiClass',\n",
              "                                                          'MultiClassOneVsAll'],\n",
              "                                        'od_type': ['IncToDec', 'Iter', 'None'],\n",
              "                                        'od_wait': [10, 100],\n",
              "                                        'random_strength': [0, 1]},\n",
              "                   scoring='f1')"
            ],
            "text/html": [
              "<style>#sk-container-id-8 {color: black;background-color: white;}#sk-container-id-8 pre{padding: 0;}#sk-container-id-8 div.sk-toggleable {background-color: white;}#sk-container-id-8 label.sk-toggleable__label {cursor: pointer;display: block;width: 100%;margin-bottom: 0;padding: 0.3em;box-sizing: border-box;text-align: center;}#sk-container-id-8 label.sk-toggleable__label-arrow:before {content: \"▸\";float: left;margin-right: 0.25em;color: #696969;}#sk-container-id-8 label.sk-toggleable__label-arrow:hover:before {color: black;}#sk-container-id-8 div.sk-estimator:hover label.sk-toggleable__label-arrow:before {color: black;}#sk-container-id-8 div.sk-toggleable__content {max-height: 0;max-width: 0;overflow: hidden;text-align: left;background-color: #f0f8ff;}#sk-container-id-8 div.sk-toggleable__content pre {margin: 0.2em;color: black;border-radius: 0.25em;background-color: #f0f8ff;}#sk-container-id-8 input.sk-toggleable__control:checked~div.sk-toggleable__content {max-height: 200px;max-width: 100%;overflow: auto;}#sk-container-id-8 input.sk-toggleable__control:checked~label.sk-toggleable__label-arrow:before {content: \"▾\";}#sk-container-id-8 div.sk-estimator input.sk-toggleable__control:checked~label.sk-toggleable__label {background-color: #d4ebff;}#sk-container-id-8 div.sk-label input.sk-toggleable__control:checked~label.sk-toggleable__label {background-color: #d4ebff;}#sk-container-id-8 input.sk-hidden--visually {border: 0;clip: rect(1px 1px 1px 1px);clip: rect(1px, 1px, 1px, 1px);height: 1px;margin: -1px;overflow: hidden;padding: 0;position: absolute;width: 1px;}#sk-container-id-8 div.sk-estimator {font-family: monospace;background-color: #f0f8ff;border: 1px dotted black;border-radius: 0.25em;box-sizing: border-box;margin-bottom: 0.5em;}#sk-container-id-8 div.sk-estimator:hover {background-color: #d4ebff;}#sk-container-id-8 div.sk-parallel-item::after {content: \"\";width: 100%;border-bottom: 1px solid gray;flex-grow: 1;}#sk-container-id-8 div.sk-label:hover label.sk-toggleable__label {background-color: #d4ebff;}#sk-container-id-8 div.sk-serial::before {content: \"\";position: absolute;border-left: 1px solid gray;box-sizing: border-box;top: 0;bottom: 0;left: 50%;z-index: 0;}#sk-container-id-8 div.sk-serial {display: flex;flex-direction: column;align-items: center;background-color: white;padding-right: 0.2em;padding-left: 0.2em;position: relative;}#sk-container-id-8 div.sk-item {position: relative;z-index: 1;}#sk-container-id-8 div.sk-parallel {display: flex;align-items: stretch;justify-content: center;background-color: white;position: relative;}#sk-container-id-8 div.sk-item::before, #sk-container-id-8 div.sk-parallel-item::before {content: \"\";position: absolute;border-left: 1px solid gray;box-sizing: border-box;top: 0;bottom: 0;left: 50%;z-index: -1;}#sk-container-id-8 div.sk-parallel-item {display: flex;flex-direction: column;z-index: 1;position: relative;background-color: white;}#sk-container-id-8 div.sk-parallel-item:first-child::after {align-self: flex-end;width: 50%;}#sk-container-id-8 div.sk-parallel-item:last-child::after {align-self: flex-start;width: 50%;}#sk-container-id-8 div.sk-parallel-item:only-child::after {width: 0;}#sk-container-id-8 div.sk-dashed-wrapped {border: 1px dashed gray;margin: 0 0.4em 0.5em 0.4em;box-sizing: border-box;padding-bottom: 0.4em;background-color: white;}#sk-container-id-8 div.sk-label label {font-family: monospace;font-weight: bold;display: inline-block;line-height: 1.2em;}#sk-container-id-8 div.sk-label-container {text-align: center;}#sk-container-id-8 div.sk-container {/* jupyter's `normalize.less` sets `[hidden] { display: none; }` but bootstrap.min.css set `[hidden] { display: none !important; }` so we also need the `!important` here to be able to override the default hidden behavior on the sphinx rendered scikit-learn.org. See: https://github.com/scikit-learn/scikit-learn/issues/21755 */display: inline-block !important;position: relative;}#sk-container-id-8 div.sk-text-repr-fallback {display: none;}</style><div id=\"sk-container-id-8\" class=\"sk-top-container\"><div class=\"sk-text-repr-fallback\"><pre>RandomizedSearchCV(estimator=&lt;catboost.core.CatBoostClassifier object at 0x7a0510c2f2e0&gt;,\n",
              "                   n_jobs=-1,\n",
              "                   param_distributions={&#x27;bagging_temperature&#x27;: [0, 1],\n",
              "                                        &#x27;border_count&#x27;: [1, 255],\n",
              "                                        &#x27;depth&#x27;: [5, 10],\n",
              "                                        &#x27;iterations&#x27;: [10, 100],\n",
              "                                        &#x27;l2_leaf_reg&#x27;: [1, 10],\n",
              "                                        &#x27;learning_rate&#x27;: [0.01, 0.1],\n",
              "                                        &#x27;loss_function&#x27;: [&#x27;Logloss&#x27;,\n",
              "                                                          &#x27;CrossEntropy&#x27;,\n",
              "                                                          &#x27;MultiClass&#x27;,\n",
              "                                                          &#x27;MultiClassOneVsAll&#x27;],\n",
              "                                        &#x27;od_type&#x27;: [&#x27;IncToDec&#x27;, &#x27;Iter&#x27;, &#x27;None&#x27;],\n",
              "                                        &#x27;od_wait&#x27;: [10, 100],\n",
              "                                        &#x27;random_strength&#x27;: [0, 1]},\n",
              "                   scoring=&#x27;f1&#x27;)</pre><b>In a Jupyter environment, please rerun this cell to show the HTML representation or trust the notebook. <br />On GitHub, the HTML representation is unable to render, please try loading this page with nbviewer.org.</b></div><div class=\"sk-container\" hidden><div class=\"sk-item sk-dashed-wrapped\"><div class=\"sk-label-container\"><div class=\"sk-label sk-toggleable\"><input class=\"sk-toggleable__control sk-hidden--visually\" id=\"sk-estimator-id-20\" type=\"checkbox\" ><label for=\"sk-estimator-id-20\" class=\"sk-toggleable__label sk-toggleable__label-arrow\">RandomizedSearchCV</label><div class=\"sk-toggleable__content\"><pre>RandomizedSearchCV(estimator=&lt;catboost.core.CatBoostClassifier object at 0x7a0510c2f2e0&gt;,\n",
              "                   n_jobs=-1,\n",
              "                   param_distributions={&#x27;bagging_temperature&#x27;: [0, 1],\n",
              "                                        &#x27;border_count&#x27;: [1, 255],\n",
              "                                        &#x27;depth&#x27;: [5, 10],\n",
              "                                        &#x27;iterations&#x27;: [10, 100],\n",
              "                                        &#x27;l2_leaf_reg&#x27;: [1, 10],\n",
              "                                        &#x27;learning_rate&#x27;: [0.01, 0.1],\n",
              "                                        &#x27;loss_function&#x27;: [&#x27;Logloss&#x27;,\n",
              "                                                          &#x27;CrossEntropy&#x27;,\n",
              "                                                          &#x27;MultiClass&#x27;,\n",
              "                                                          &#x27;MultiClassOneVsAll&#x27;],\n",
              "                                        &#x27;od_type&#x27;: [&#x27;IncToDec&#x27;, &#x27;Iter&#x27;, &#x27;None&#x27;],\n",
              "                                        &#x27;od_wait&#x27;: [10, 100],\n",
              "                                        &#x27;random_strength&#x27;: [0, 1]},\n",
              "                   scoring=&#x27;f1&#x27;)</pre></div></div></div><div class=\"sk-parallel\"><div class=\"sk-parallel-item\"><div class=\"sk-item\"><div class=\"sk-label-container\"><div class=\"sk-label sk-toggleable\"><input class=\"sk-toggleable__control sk-hidden--visually\" id=\"sk-estimator-id-21\" type=\"checkbox\" ><label for=\"sk-estimator-id-21\" class=\"sk-toggleable__label sk-toggleable__label-arrow\">estimator: CatBoostClassifier</label><div class=\"sk-toggleable__content\"><pre>&lt;catboost.core.CatBoostClassifier object at 0x7a0510c2f2e0&gt;</pre></div></div></div><div class=\"sk-serial\"><div class=\"sk-item\"><div class=\"sk-estimator sk-toggleable\"><input class=\"sk-toggleable__control sk-hidden--visually\" id=\"sk-estimator-id-22\" type=\"checkbox\" ><label for=\"sk-estimator-id-22\" class=\"sk-toggleable__label sk-toggleable__label-arrow\">CatBoostClassifier</label><div class=\"sk-toggleable__content\"><pre>&lt;catboost.core.CatBoostClassifier object at 0x7a0510c2f2e0&gt;</pre></div></div></div></div></div></div></div></div></div></div>"
            ]
          },
          "metadata": {},
          "execution_count": 41
        }
      ]
    },
    {
      "cell_type": "code",
      "execution_count": null,
      "metadata": {
        "colab": {
          "base_uri": "https://localhost:8080/"
        },
        "id": "35Q8g6kJQtmf",
        "outputId": "987ec217-2c7e-4ed9-cb48-d2af34c54174"
      },
      "outputs": [
        {
          "output_type": "stream",
          "name": "stdout",
          "text": [
            "Лучшие параметры:\n",
            "{'random_strength': 1, 'od_wait': 100, 'od_type': 'IncToDec', 'loss_function': 'CrossEntropy', 'learning_rate': 0.1, 'l2_leaf_reg': 1, 'iterations': 100, 'depth': 10, 'border_count': 255, 'bagging_temperature': 0}\n",
            "\n",
            "Показатель f1 для лучшей модели составил: 62.72%\n",
            "\n",
            "Сравнение метрик: \n",
            "              precision    recall  f1-score   support\n",
            "\n",
            "           0       0.88      0.95      0.91     22098\n",
            "           1       0.75      0.53      0.62      6341\n",
            "\n",
            "    accuracy                           0.86     28439\n",
            "   macro avg       0.81      0.74      0.77     28439\n",
            "weighted avg       0.85      0.86      0.85     28439\n",
            "\n",
            "\n",
            "Матрица ошибок: \n",
            "[[20963  1135]\n",
            " [ 2985  3356]]\n",
            "\n"
          ]
        }
      ],
      "source": [
        "# результаты кросс-валидации\n",
        "print(f'Лучшие параметры:\\n{grid_catboost.best_params_}\\n')\n",
        "print(\"Показатель f1 для лучшей модели составил: {:.2f}%\".\n",
        "      format(grid_catboost.best_score_ * 100) + '\\n')\n",
        "\n",
        "# предсказываем результат на тестовой выборке\n",
        "grid_catboost_pred = grid_catboost.predict(X_test)\n",
        "\n",
        "# оцениваем модель\n",
        "print(f'Сравнение метрик: \\n{classification_report(y_test, grid_catboost_pred)}\\n')\n",
        "print(f'Матрица ошибок: \\n{confusion_matrix(y_test, grid_catboost_pred)}\\n')"
      ]
    }
  ],
  "metadata": {
    "colab": {
      "provenance": []
    },
    "kernelspec": {
      "display_name": "Python 3",
      "name": "python3"
    },
    "language_info": {
      "name": "python"
    }
  },
  "nbformat": 4,
  "nbformat_minor": 0
}